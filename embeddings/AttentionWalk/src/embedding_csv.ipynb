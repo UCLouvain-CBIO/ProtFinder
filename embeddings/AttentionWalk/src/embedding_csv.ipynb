{
 "cells": [
  {
   "cell_type": "code",
   "execution_count": 1,
   "metadata": {},
   "outputs": [],
   "source": [
    "import pandas as pd\n",
    "import pickle"
   ]
  },
  {
   "cell_type": "code",
   "execution_count": 2,
   "metadata": {},
   "outputs": [
    {
     "output_type": "execute_result",
     "data": {
      "text/plain": "7501"
     },
     "metadata": {},
     "execution_count": 2
    }
   ],
   "source": [
    "df = pd.read_csv('../output/trial_attentionwalk.csv')\n",
    "with open('../idx2prot.pickle', 'rb') as f:\n",
    "    idx2prot = pickle.load(f)\n",
    "\n",
    "# df['protein'] = df['id'].apply(lambda x: idx2prot[x])\n",
    "proteins = set(df['id'].to_list())\n",
    "len(proteins)"
   ]
  },
  {
   "cell_type": "code",
   "execution_count": 3,
   "metadata": {},
   "outputs": [],
   "source": [
    "# Covert string to the proper set format\n",
    "def get_set(x):                 \n",
    "    x = x[2:-2]                 # Since each location is of the form {'location_name'}\n",
    "    return set(x.split(','))"
   ]
  },
  {
   "cell_type": "code",
   "execution_count": 4,
   "metadata": {
    "tags": []
   },
   "outputs": [
    {
     "output_type": "stream",
     "name": "stdout",
     "text": "0 {'Cell Junctions', 'Cytosol', 'Nucleoli fibrillar center', 'Nuclear membrane', 'Vesicles', 'Intermediate filaments', 'Golgi apparatus', 'Centrosome', 'Plasma membrane', 'Nuclear speckles', 'Endoplasmic reticulum', 'Mitochondria', 'Nucleoli', 'Microtubules', 'Nuclear bodies', 'Nucleoplasm'}\n"
    }
   ],
   "source": [
    "data = pd.read_csv('../input/trial.csv')\n",
    "\n",
    "prot2loc = dict()\n",
    "for i in data.index:\n",
    "\n",
    "    l = get_set(data['locations'][i])\n",
    "\n",
    "    p1 = data['protein1'][i]  \n",
    "    try:\n",
    "        prot2loc[p1] = prot2loc[p1].union(l)\n",
    "    except:\n",
    "        prot2loc[p1] = l\n",
    "\n",
    "    p2 = data['protein2'][i]\n",
    "    try:\n",
    "        prot2loc[p2] = prot2loc[p2].union(l)\n",
    "    except:\n",
    "        prot2loc[p2] = l\n",
    "p = next(iter(prot2loc))\n",
    "print(p, prot2loc[p])\n",
    "# list(prot2loc.values())[0]"
   ]
  },
  {
   "cell_type": "code",
   "execution_count": 5,
   "metadata": {
    "tags": []
   },
   "outputs": [
    {
     "output_type": "stream",
     "name": "stdout",
     "text": "(6123, 130)\n"
    }
   ],
   "source": [
    "locs = ['Cytosol', 'Nucleoplasm', 'Plasma membrane', 'Vesicles',\n",
    "        'Mitochondria', 'Endoplasmic reticulum', 'Golgi apparatus', 'Nucleoli',\n",
    "        'Intermediate filaments', 'Centrosome', 'Nuclear speckles', 'Nuclear bodies',\n",
    "        'Cell Junctions', 'Microtubules', 'Nuclear membrane', 'Nucleoli fibrillar center']\n",
    "loc2id = {k: v for v, k in enumerate(locs)}\n",
    "\n",
    "locs = list()\n",
    "drop = list()\n",
    "for i in df.index:\n",
    "    loc = prot2loc[df['id'][i]]\n",
    "    locs.append(loc)\n",
    "    if len(loc) > 1:\n",
    "        drop.append(i)\n",
    "        \n",
    "df['locations'] = locs\n",
    "df = df.drop(drop)\n",
    "df['locations'] = df['locations'].apply(lambda x: loc2id[next(iter(x))])\n",
    "print(df.shape)\n",
    "df.to_csv('../output/trial_data_attentionwalk.csv', index=None)"
   ]
  },
  {
   "cell_type": "code",
   "execution_count": 6,
   "metadata": {
    "tags": []
   },
   "outputs": [
    {
     "output_type": "stream",
     "name": "stdout",
     "text": "(5204, 129) (919, 129)\n"
    }
   ],
   "source": [
    "cols = list(df.columns)\n",
    "cols.remove('locations')\n",
    "cols.remove('id')\n",
    "cols = ['locations']+cols\n",
    "\n",
    "df = df[cols].sample(frac=1, random_state=42)\n",
    "\n",
    "n_prots = df.shape[0]\n",
    "alpha = 0.85\n",
    "n_train = int(alpha * n_prots)\n",
    "df_train = df.iloc[:n_train, :]\n",
    "df_test = df.iloc[n_train:, :]\n",
    "\n",
    "print(df_train.shape, df_test.shape)"
   ]
  },
  {
   "cell_type": "code",
   "execution_count": 7,
   "metadata": {},
   "outputs": [],
   "source": [
    "df_train.to_csv('../output/train_attentionwalk.csv', index=None)\n",
    "df_test.to_csv('../output/test_attentionwalk.csv', index=None)"
   ]
  },
  {
   "cell_type": "code",
   "execution_count": null,
   "metadata": {},
   "outputs": [],
   "source": []
  }
 ],
 "metadata": {
  "language_info": {
   "codemirror_mode": {
    "name": "ipython",
    "version": 3
   },
   "file_extension": ".py",
   "mimetype": "text/x-python",
   "name": "python",
   "nbconvert_exporter": "python",
   "pygments_lexer": "ipython3",
   "version": "3.7.6-final"
  },
  "orig_nbformat": 2,
  "kernelspec": {
   "name": "python3",
   "display_name": "Python 3"
  }
 },
 "nbformat": 4,
 "nbformat_minor": 2
}