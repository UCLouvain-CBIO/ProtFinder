{
 "cells": [
  {
   "cell_type": "code",
   "execution_count": 2,
   "metadata": {},
   "outputs": [],
   "source": [
    "import pandas as pd\n",
    "\n",
    "from tqdm import tqdm"
   ]
  },
  {
   "cell_type": "code",
   "execution_count": 2,
   "metadata": {},
   "outputs": [],
   "source": [
    "df = pd.read_csv('../data/string_bioplex.csv')\n",
    "df = df[['protein1', 'protein2', 'locations']]"
   ]
  },
  {
   "cell_type": "code",
   "execution_count": 3,
   "metadata": {},
   "outputs": [],
   "source": [
    "def get_set(x):\n",
    "    x = x[1:-1]\n",
    "    x = x.replace(\"'\", \"\")\n",
    "    x = x.replace('\"', '\"').strip()\n",
    "    x = x.split(',')\n",
    "    x = set([i.strip() for i in x])\n",
    "    return x"
   ]
  },
  {
   "cell_type": "code",
   "execution_count": 4,
   "metadata": {
    "tags": []
   },
   "outputs": [
    {
     "output_type": "stream",
     "name": "stderr",
     "text": "100%|██████████| 3186181/3186181 [05:23<00:00, 9863.24it/s]\n"
    }
   ],
   "source": [
    "prot2loc = dict()\n",
    "for i in tqdm(df.index):\n",
    "    p1 = df['protein1'][i]\n",
    "    p2 = df['protein2'][i]\n",
    "    l = get_set(df['locations'][i])\n",
    "\n",
    "    try:\n",
    "        prot2loc[p1] = prot2loc[p1].union(l)\n",
    "    except:\n",
    "        prot2loc[p1] = l\n",
    "    \n",
    "    try:\n",
    "        prot2loc[p2] = prot2loc[p2].union(l)\n",
    "    except:\n",
    "        prot2loc[p2] = l"
   ]
  },
  {
   "cell_type": "code",
   "execution_count": 5,
   "metadata": {},
   "outputs": [
    {
     "output_type": "execute_result",
     "data": {
      "text/plain": "23162"
     },
     "metadata": {},
     "execution_count": 5
    }
   ],
   "source": [
    "len(prot2loc)"
   ]
  },
  {
   "cell_type": "code",
   "execution_count": 6,
   "metadata": {},
   "outputs": [
    {
     "output_type": "execute_result",
     "data": {
      "text/plain": "23162"
     },
     "metadata": {},
     "execution_count": 6
    }
   ],
   "source": [
    "loc2count = {k: len(v) for k,v in prot2loc.items()}\n",
    "len(loc2count)"
   ]
  },
  {
   "cell_type": "code",
   "execution_count": 7,
   "metadata": {},
   "outputs": [
    {
     "output_type": "execute_result",
     "data": {
      "text/plain": "23162"
     },
     "metadata": {},
     "execution_count": 7
    }
   ],
   "source": [
    "sorted_l = sorted(loc2count.items(), key=lambda x: x[1], reverse=True)\n",
    "len(sorted_l)"
   ]
  },
  {
   "cell_type": "code",
   "execution_count": 25,
   "metadata": {
    "tags": []
   },
   "outputs": [
    {
     "output_type": "execute_result",
     "data": {
      "text/plain": "'ENSP00000446215'"
     },
     "metadata": {},
     "execution_count": 25
    }
   ],
   "source": [
    "# p = sorted_l[0][0]"
   ]
  },
  {
   "cell_type": "code",
   "execution_count": 26,
   "metadata": {
    "tags": []
   },
   "outputs": [
    {
     "output_type": "stream",
     "name": "stderr",
     "text": "100%|██████████| 3186181/3186181 [06:05<00:00, 8719.17it/s]\n"
    }
   ],
   "source": [
    "locc = dict()\n",
    "for i in tqdm(df.index):       #1175 occurances of ensp00000245304\n",
    "    p1 = df['protein1'][i]\n",
    "    p2 = df['protein2'][i]\n",
    "    l = get_set(df['locations'][i])\n",
    "    if p1 == p or p2 == p:\n",
    "        for loc in l:\n",
    "            try:\n",
    "                locc[loc] += 1\n",
    "            except:\n",
    "                locc[loc] = 1\n",
    "        "
   ]
  },
  {
   "cell_type": "code",
   "execution_count": 27,
   "metadata": {},
   "outputs": [
    {
     "output_type": "execute_result",
     "data": {
      "text/plain": "[('Actin filaments', 41),\n ('Cell Junctions', 42),\n ('Centriolar satellite', 23),\n ('Centrosome', 43),\n ('Cytokinetic bridge', 17),\n ('Cytoplasmic bodies', 6),\n ('Cytosol', 532),\n ('Endoplasmic reticulum', 33),\n ('Endosomes', 5),\n ('Focal adhesion sites', 27),\n ('Golgi apparatus', 111),\n ('Intermediate filaments', 13),\n ('Lipid droplets', 1),\n ('Lysosomes', 4),\n ('Microtubules', 32),\n ('Midbody', 9),\n ('Midbody ring', 4),\n ('Mitochondria', 45),\n ('Mitotic spindle', 8),\n ('Nuclear bodies', 47),\n ('Nuclear membrane', 24),\n ('Nuclear speckles', 39),\n ('Nucleoli', 74),\n ('Nucleoli fibrillar center', 25),\n ('Nucleoplasm', 478),\n ('Peroxisomes', 1),\n ('Plasma membrane', 239),\n ('Vesicles', 193)]"
     },
     "metadata": {},
     "execution_count": 27
    }
   ],
   "source": [
    "sorted(locc.items(), key=lambda x: x[0])"
   ]
  },
  {
   "cell_type": "code",
   "execution_count": 32,
   "metadata": {},
   "outputs": [
    {
     "output_type": "execute_result",
     "data": {
      "text/plain": "7538"
     },
     "metadata": {},
     "execution_count": 32
    }
   ],
   "source": [
    "for i in range(len(sorted_l)):\n",
    "    if sorted_l[i][1] <= 11:\n",
    "        break\n",
    "i"
   ]
  },
  {
   "cell_type": "code",
   "execution_count": 12,
   "metadata": {},
   "outputs": [],
   "source": [
    "df2 = pd.read_csv('../data/string_locs2.csv')"
   ]
  },
  {
   "cell_type": "code",
   "execution_count": 13,
   "metadata": {
    "tags": []
   },
   "outputs": [
    {
     "output_type": "stream",
     "name": "stderr",
     "text": "100%|██████████| 3126817/3126817 [04:55<00:00, 10566.59it/s]\n"
    }
   ],
   "source": [
    "locc2 = dict()\n",
    "for i in tqdm(df2.index):       #1175 occurances of ensp00000245304\n",
    "    p1 = df2['protein1'][i]\n",
    "    p2 = df2['protein2'][i]\n",
    "    l = get_set(df2['locations'][i])\n",
    "    if p1 == p or p2 == p:\n",
    "        for loc in l:\n",
    "            try:\n",
    "                locc2[loc] += 1\n",
    "            except:\n",
    "                locc2[loc] = 1"
   ]
  },
  {
   "cell_type": "code",
   "execution_count": 14,
   "metadata": {},
   "outputs": [
    {
     "output_type": "execute_result",
     "data": {
      "text/plain": "[('Actin filaments', 41),\n ('Aggresome', 1),\n ('Cell Junctions', 42),\n ('Centriolar satellite', 23),\n ('Centrosome', 43),\n ('Cytokinetic bridge', 16),\n ('Cytoplasmic bodies', 6),\n ('Cytosol', 527),\n ('Endoplasmic reticulum', 32),\n ('Endosomes', 5),\n ('Focal adhesion sites', 27),\n ('Golgi apparatus', 109),\n ('Intermediate filaments', 13),\n ('Lipid droplets', 1),\n ('Lysosomes', 4),\n ('Microtubule ends', 1),\n ('Microtubules', 32),\n ('Midbody', 9),\n ('Midbody ring', 4),\n ('Mitochondria', 42),\n ('Mitotic spindle', 8),\n ('Nuclear bodies', 46),\n ('Nuclear membrane', 24),\n ('Nuclear speckles', 39),\n ('Nucleoli', 74),\n ('Nucleoli fibrillar center', 25),\n ('Nucleoplasm', 468),\n ('Plasma membrane', 237),\n ('Rods & Rings', 3),\n ('Vesicles', 189)]"
     },
     "metadata": {},
     "execution_count": 14
    }
   ],
   "source": [
    "sorted(locc2.items(), key=lambda x: x[0])"
   ]
  },
  {
   "cell_type": "code",
   "execution_count": 15,
   "metadata": {},
   "outputs": [],
   "source": [
    "df3 = pd.read_csv('../data/bioplex_locs2.csv')"
   ]
  },
  {
   "cell_type": "code",
   "execution_count": 16,
   "metadata": {
    "tags": []
   },
   "outputs": [
    {
     "output_type": "stream",
     "name": "stderr",
     "text": "100%|██████████| 73664/73664 [00:04<00:00, 15783.32it/s]\n"
    }
   ],
   "source": [
    "locc3 = dict()\n",
    "for i in tqdm(df3.index):       #1175 occurances of ensp00000245304\n",
    "    p1 = df3['protein1'][i]\n",
    "    p2 = df3['protein2'][i]\n",
    "    l = get_set(df3['locations'][i])\n",
    "    if p1 == p or p2 == p:\n",
    "        for loc in l:\n",
    "            try:\n",
    "                locc3[loc] += 1\n",
    "            except:\n",
    "                locc3[loc] = 1"
   ]
  },
  {
   "cell_type": "code",
   "execution_count": 17,
   "metadata": {},
   "outputs": [
    {
     "output_type": "execute_result",
     "data": {
      "text/plain": "[('Centrosome', 1),\n ('Cytokinetic bridge', 1),\n ('Cytosol', 7),\n ('Endoplasmic reticulum', 2),\n ('Golgi apparatus', 2),\n ('Mitochondria', 3),\n ('Nuclear bodies', 1),\n ('Nucleoplasm', 13),\n ('Peroxisomes', 1),\n ('Plasma membrane', 2),\n ('Vesicles', 5)]"
     },
     "metadata": {},
     "execution_count": 17
    }
   ],
   "source": [
    "sorted(locc3.items(), key=lambda x: x[0])"
   ]
  }
 ],
 "metadata": {
  "language_info": {
   "codemirror_mode": {
    "name": "ipython",
    "version": 3
   },
   "file_extension": ".py",
   "mimetype": "text/x-python",
   "name": "python",
   "nbconvert_exporter": "python",
   "pygments_lexer": "ipython3",
   "version": "3.7.6-final"
  },
  "orig_nbformat": 2,
  "kernelspec": {
   "name": "python3",
   "display_name": "Python 3"
  }
 },
 "nbformat": 4,
 "nbformat_minor": 2
}