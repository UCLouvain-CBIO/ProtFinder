{
 "cells": [
  {
   "cell_type": "code",
   "execution_count": 1,
   "metadata": {},
   "outputs": [],
   "source": [
    "import pandas as pd\n",
    "import pickle\n",
    "from tqdm import tqdm"
   ]
  },
  {
   "cell_type": "code",
   "execution_count": 2,
   "metadata": {},
   "outputs": [
    {
     "output_type": "execute_result",
     "data": {
      "text/plain": "12306"
     },
     "metadata": {},
     "execution_count": 2
    }
   ],
   "source": [
    "df = pd.read_csv('../data/combined_more_new.emb', delimiter=' ', header=None)\n",
    "\n",
    "hidden_dim = df.shape[1] - 1\n",
    "\n",
    "columns = ['protein']\n",
    "for i in range(hidden_dim):\n",
    "    columns.append(('dim'+str(i+1)))\n",
    "\n",
    "df.columns = columns\n",
    "\n",
    "proteins = set(df['protein'].to_list())\n",
    "len(proteins)"
   ]
  },
  {
   "cell_type": "code",
   "execution_count": 3,
   "metadata": {},
   "outputs": [],
   "source": [
    "# Covert string to the proper set format, since each location is of the form {'location_name'}\n",
    "def get_set(x):\n",
    "    x = x[1:-1]\n",
    "    x = x.replace(\"'\", \"\")\n",
    "    x = x.replace('\"', '\"').strip()\n",
    "    x = x.split(',')\n",
    "    x = set([i.strip() for i in x])\n",
    "    return x"
   ]
  },
  {
   "cell_type": "code",
   "execution_count": 4,
   "metadata": {},
   "outputs": [],
   "source": [
    "omit_locs = ['Rods & Rings', 'Aggresome', 'Microtubule ends', 'Cleavage furrow']\n",
    "\n",
    "def get_loc_values(df, info_retain=1.0):\n",
    "    \n",
    "    # Compute a dictionary of the form {protein_id: {location: count}, ...}\n",
    "    prot2loc_c = dict()\n",
    "    for i in tqdm(df.index):\n",
    "        p1 = df['protein1'][i]\n",
    "        p2 = df['protein2'][i]\n",
    "        l = get_set(df['locations'][i])\n",
    "\n",
    "        try:\n",
    "            prot2loc_c[p1]\n",
    "        except:\n",
    "            prot2loc_c[p1] = dict()\n",
    "        try:\n",
    "            prot2loc_c[p2]\n",
    "        except:\n",
    "            prot2loc_c[p2] = dict()\n",
    "\n",
    "        for loc in l:\n",
    "            if loc not in omit_locs:\n",
    "                try:\n",
    "                    prot2loc_c[p1][loc] += 1\n",
    "                except:\n",
    "                    prot2loc_c[p1][loc] = 1\n",
    "            \n",
    "                try:\n",
    "                    prot2loc_c[p2][loc] += 1\n",
    "                except:\n",
    "                    prot2loc_c[p2][loc] = 1\n",
    "\n",
    "    # Pick locations corresponding to a protein that hold more information than info_retain\n",
    "    for i in tqdm(prot2loc_c.keys()):\n",
    "        counts = prot2loc_c[i].values()\n",
    "        total_c = sum(counts)\n",
    "        counts = [c/total_c for c in counts]\n",
    "        norm_counts = dict(zip(prot2loc_c[i].keys(), counts))\n",
    "        norm_counts = {\n",
    "            k: v for k, v in sorted(norm_counts.items(), key=lambda x: x[1], reverse=True)\n",
    "            }\n",
    "\n",
    "        cumsum = 0\n",
    "        temp = dict()\n",
    "        for key,val in norm_counts.items():\n",
    "            if cumsum > info_retain:\n",
    "                break\n",
    "            cumsum += val\n",
    "            temp[key] = val\n",
    "\n",
    "        prot2loc_c[i] = set(temp.keys())\n",
    "\n",
    "    return prot2loc_c"
   ]
  },
  {
   "cell_type": "code",
   "execution_count": 5,
   "metadata": {
    "tags": []
   },
   "outputs": [
    {
     "output_type": "stream",
     "name": "stderr",
     "text": "100%|██████████| 150000/150000 [00:09<00:00, 15211.20it/s]\n100%|██████████| 12306/12306 [00:00<00:00, 174067.21it/s]ENSP00000326119 {'Vesicles'}\n\n"
    }
   ],
   "source": [
    "data = pd.read_csv('../data/combined_more_new_helper.csv')\n",
    "\n",
    "# data = data[data.reliability1.notnull()]\n",
    "# data = data[data.reliability2.notnull()]\n",
    "\n",
    "prot2loc = get_loc_values(data, info_retain=0.7)\n",
    "\n",
    "# prot2loc = dict()\n",
    "# locs = set()\n",
    "# drop_l = list()\n",
    "# for i in data.index:\n",
    "\n",
    "#     l = get_set(data['locations'][i])\n",
    "#     for x in l:\n",
    "#         locs.add(x)\n",
    "            \n",
    "#     p1 = data['protein1'][i]  \n",
    "#     try:\n",
    "#         prot2loc[p1] = prot2loc[p1].union(l)\n",
    "#     except:\n",
    "#         prot2loc[p1] = l\n",
    "\n",
    "#     p2 = data['protein2'][i]\n",
    "#     try:\n",
    "#         prot2loc[p2] = prot2loc[p2].union(l)\n",
    "#     except:\n",
    "#         prot2loc[p2] = l\n",
    "p = next(iter(prot2loc))\n",
    "print(p, prot2loc[p])\n",
    "# list(prot2loc.values())[0]"
   ]
  },
  {
   "cell_type": "code",
   "execution_count": 6,
   "metadata": {
    "tags": []
   },
   "outputs": [],
   "source": [
    "# locs = list(locs)\n",
    "# loc2id = {k: v for v, k in enumerate(locs)}\n",
    "\n",
    "# with open('../data/loc2id_string_new.pkl','wb') as f:\n",
    "#         pickle.dump(loc2id, f)\n",
    "\n",
    "# for key,value in loc2id.items():\n",
    "#         print(key, value)"
   ]
  },
  {
   "cell_type": "code",
   "execution_count": 7,
   "metadata": {},
   "outputs": [
    {
     "output_type": "execute_result",
     "data": {
      "text/plain": "           protein      dim1      dim2      dim3      dim4      dim5  \\\n0  ENSP00000388107  0.630998  0.353874 -0.623053  1.560223  0.017360   \n1  ENSP00000407586  4.630718  2.081150  0.336501 -2.344453  1.361587   \n2  ENSP00000306330  3.333804  0.591292 -0.438372  0.039246 -0.634735   \n3  ENSP00000451828  3.362763 -1.196866  1.493734 -1.760889 -1.583714   \n4  ENSP00000361021 -0.228882  0.782611 -1.005980 -0.750401  2.079447   \n\n       dim6      dim7      dim8      dim9  ...    dim119    dim120    dim121  \\\n0 -1.903826 -2.548556  0.126147 -1.032244  ...  0.006003  2.094278 -6.036074   \n1 -1.731791  0.110057 -1.188406  0.119458  ... -3.062323 -1.555196  1.507390   \n2 -2.153432 -2.813201 -0.211307 -1.182109  ... -0.167855 -1.812999  0.483340   \n3  0.378306  1.572643  1.202605 -0.858910  ... -1.681248  0.872071  2.700834   \n4  1.332219 -1.387472 -1.130411 -1.077732  ... -1.545805 -2.552706  0.691746   \n\n     dim122    dim123    dim124    dim125    dim126    dim127    dim128  \n0  1.402410 -0.918161  0.452964 -4.304540 -0.994951 -2.446774 -1.721137  \n1 -0.327374  1.434506  4.572812  1.239097  1.209302 -0.997174 -2.745158  \n2  0.245042 -1.349984 -0.268223 -0.834833  1.103712 -1.817778 -1.262102  \n3 -0.570942  0.221468  2.828533 -1.633486  1.301244 -4.481641 -2.152392  \n4  2.384368  1.061209 -0.449063 -2.122280  0.095804 -0.430881 -0.638577  \n\n[5 rows x 129 columns]",
      "text/html": "<div>\n<style scoped>\n    .dataframe tbody tr th:only-of-type {\n        vertical-align: middle;\n    }\n\n    .dataframe tbody tr th {\n        vertical-align: top;\n    }\n\n    .dataframe thead th {\n        text-align: right;\n    }\n</style>\n<table border=\"1\" class=\"dataframe\">\n  <thead>\n    <tr style=\"text-align: right;\">\n      <th></th>\n      <th>protein</th>\n      <th>dim1</th>\n      <th>dim2</th>\n      <th>dim3</th>\n      <th>dim4</th>\n      <th>dim5</th>\n      <th>dim6</th>\n      <th>dim7</th>\n      <th>dim8</th>\n      <th>dim9</th>\n      <th>...</th>\n      <th>dim119</th>\n      <th>dim120</th>\n      <th>dim121</th>\n      <th>dim122</th>\n      <th>dim123</th>\n      <th>dim124</th>\n      <th>dim125</th>\n      <th>dim126</th>\n      <th>dim127</th>\n      <th>dim128</th>\n    </tr>\n  </thead>\n  <tbody>\n    <tr>\n      <th>0</th>\n      <td>ENSP00000388107</td>\n      <td>0.630998</td>\n      <td>0.353874</td>\n      <td>-0.623053</td>\n      <td>1.560223</td>\n      <td>0.017360</td>\n      <td>-1.903826</td>\n      <td>-2.548556</td>\n      <td>0.126147</td>\n      <td>-1.032244</td>\n      <td>...</td>\n      <td>0.006003</td>\n      <td>2.094278</td>\n      <td>-6.036074</td>\n      <td>1.402410</td>\n      <td>-0.918161</td>\n      <td>0.452964</td>\n      <td>-4.304540</td>\n      <td>-0.994951</td>\n      <td>-2.446774</td>\n      <td>-1.721137</td>\n    </tr>\n    <tr>\n      <th>1</th>\n      <td>ENSP00000407586</td>\n      <td>4.630718</td>\n      <td>2.081150</td>\n      <td>0.336501</td>\n      <td>-2.344453</td>\n      <td>1.361587</td>\n      <td>-1.731791</td>\n      <td>0.110057</td>\n      <td>-1.188406</td>\n      <td>0.119458</td>\n      <td>...</td>\n      <td>-3.062323</td>\n      <td>-1.555196</td>\n      <td>1.507390</td>\n      <td>-0.327374</td>\n      <td>1.434506</td>\n      <td>4.572812</td>\n      <td>1.239097</td>\n      <td>1.209302</td>\n      <td>-0.997174</td>\n      <td>-2.745158</td>\n    </tr>\n    <tr>\n      <th>2</th>\n      <td>ENSP00000306330</td>\n      <td>3.333804</td>\n      <td>0.591292</td>\n      <td>-0.438372</td>\n      <td>0.039246</td>\n      <td>-0.634735</td>\n      <td>-2.153432</td>\n      <td>-2.813201</td>\n      <td>-0.211307</td>\n      <td>-1.182109</td>\n      <td>...</td>\n      <td>-0.167855</td>\n      <td>-1.812999</td>\n      <td>0.483340</td>\n      <td>0.245042</td>\n      <td>-1.349984</td>\n      <td>-0.268223</td>\n      <td>-0.834833</td>\n      <td>1.103712</td>\n      <td>-1.817778</td>\n      <td>-1.262102</td>\n    </tr>\n    <tr>\n      <th>3</th>\n      <td>ENSP00000451828</td>\n      <td>3.362763</td>\n      <td>-1.196866</td>\n      <td>1.493734</td>\n      <td>-1.760889</td>\n      <td>-1.583714</td>\n      <td>0.378306</td>\n      <td>1.572643</td>\n      <td>1.202605</td>\n      <td>-0.858910</td>\n      <td>...</td>\n      <td>-1.681248</td>\n      <td>0.872071</td>\n      <td>2.700834</td>\n      <td>-0.570942</td>\n      <td>0.221468</td>\n      <td>2.828533</td>\n      <td>-1.633486</td>\n      <td>1.301244</td>\n      <td>-4.481641</td>\n      <td>-2.152392</td>\n    </tr>\n    <tr>\n      <th>4</th>\n      <td>ENSP00000361021</td>\n      <td>-0.228882</td>\n      <td>0.782611</td>\n      <td>-1.005980</td>\n      <td>-0.750401</td>\n      <td>2.079447</td>\n      <td>1.332219</td>\n      <td>-1.387472</td>\n      <td>-1.130411</td>\n      <td>-1.077732</td>\n      <td>...</td>\n      <td>-1.545805</td>\n      <td>-2.552706</td>\n      <td>0.691746</td>\n      <td>2.384368</td>\n      <td>1.061209</td>\n      <td>-0.449063</td>\n      <td>-2.122280</td>\n      <td>0.095804</td>\n      <td>-0.430881</td>\n      <td>-0.638577</td>\n    </tr>\n  </tbody>\n</table>\n<p>5 rows × 129 columns</p>\n</div>"
     },
     "metadata": {},
     "execution_count": 7
    }
   ],
   "source": [
    "df.head()"
   ]
  },
  {
   "cell_type": "code",
   "execution_count": 8,
   "metadata": {
    "tags": []
   },
   "outputs": [
    {
     "output_type": "stream",
     "name": "stdout",
     "text": "(12306, 130) 0\n"
    }
   ],
   "source": [
    "df_locs = list()\n",
    "count = 0\n",
    "for i in df.index:\n",
    "    try:\n",
    "        loc = prot2loc[df['protein'][i]]\n",
    "    except:\n",
    "        count+=1\n",
    "        loc = None\n",
    "    df_locs.append(loc)\n",
    "        \n",
    "df['locations'] = df_locs\n",
    "\n",
    "df.dropna(inplace=True)\n",
    "\n",
    "print(df.shape, count)"
   ]
  },
  {
   "cell_type": "code",
   "execution_count": 9,
   "metadata": {
    "tags": []
   },
   "outputs": [
    {
     "output_type": "stream",
     "name": "stdout",
     "text": "(10460, 129) (1846, 129)\n"
    }
   ],
   "source": [
    "cols = list(df.columns)\n",
    "cols.remove('locations')\n",
    "cols.remove('protein')\n",
    "cols = ['locations']+cols\n",
    "\n",
    "df = df[cols].sample(frac=1, random_state=42)\n",
    "\n",
    "n_prots = df.shape[0]\n",
    "alpha = 0.85\n",
    "n_train = int(alpha * n_prots)\n",
    "df_train = df.iloc[:n_train, :]\n",
    "df_test = df.iloc[n_train:, :]\n",
    "\n",
    "print(df_train.shape, df_test.shape)"
   ]
  },
  {
   "cell_type": "code",
   "execution_count": 10,
   "metadata": {},
   "outputs": [],
   "source": [
    "df_train.to_csv('../data/train_combined_more_new_0.7.csv', index=None)\n",
    "df_test.to_csv('../data/test_combined_more_new_0.7.csv', index=None)"
   ]
  },
  {
   "cell_type": "code",
   "execution_count": null,
   "metadata": {},
   "outputs": [],
   "source": []
  }
 ],
 "metadata": {
  "language_info": {
   "codemirror_mode": {
    "name": "ipython",
    "version": 3
   },
   "file_extension": ".py",
   "mimetype": "text/x-python",
   "name": "python",
   "nbconvert_exporter": "python",
   "pygments_lexer": "ipython3",
   "version": "3.7.6-final"
  },
  "orig_nbformat": 2,
  "kernelspec": {
   "name": "python3",
   "display_name": "Python 3"
  }
 },
 "nbformat": 4,
 "nbformat_minor": 2
}