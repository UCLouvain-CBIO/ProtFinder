{
 "metadata": {
  "language_info": {
   "codemirror_mode": {
    "name": "ipython",
    "version": 3
   },
   "file_extension": ".py",
   "mimetype": "text/x-python",
   "name": "python",
   "nbconvert_exporter": "python",
   "pygments_lexer": "ipython3",
   "version": "3.7.6"
  },
  "orig_nbformat": 2,
  "kernelspec": {
   "name": "python37664bitbaseconda8a657cacb13946bba19f9da03ab68860",
   "display_name": "Python 3.7.6 64-bit ('base': conda)",
   "language": "python"
  }
 },
 "nbformat": 4,
 "nbformat_minor": 2,
 "cells": [
  {
   "cell_type": "code",
   "execution_count": 19,
   "metadata": {},
   "outputs": [],
   "source": [
    "import pandas as pd\n",
    "import seaborn as sns\n",
    "import matplotlib.pyplot as plt"
   ]
  },
  {
   "cell_type": "code",
   "execution_count": 20,
   "metadata": {},
   "outputs": [
    {
     "output_type": "execute_result",
     "data": {
      "text/plain": [
       "(12386, 4)"
      ]
     },
     "metadata": {},
     "execution_count": 20
    }
   ],
   "source": [
    "df = pd.read_csv('../data/hpa_new.csv')\n",
    "df.shape"
   ]
  },
  {
   "cell_type": "code",
   "execution_count": 21,
   "metadata": {},
   "outputs": [],
   "source": [
    "def get_maps():\n",
    "    df = pd.read_csv('../data/mart_infer.csv')\n",
    "    d = dict()\n",
    "    for i in df.index:\n",
    "       d[df['Gene'][i]] = df['Protein'][i] # creating a dictionary that maps a gene id to protein id\n",
    "    \n",
    "    return d"
   ]
  },
  {
   "cell_type": "code",
   "execution_count": 22,
   "metadata": {},
   "outputs": [
    {
     "output_type": "execute_result",
     "data": {
      "text/plain": [
       "(12386, 5)"
      ]
     },
     "metadata": {},
     "execution_count": 22
    }
   ],
   "source": [
    "maps = get_maps()\n",
    "\n",
    "prots = list()\n",
    "for i in df.index:\n",
    "    try:\n",
    "        p = maps[df['Gene'][i]]\n",
    "    except:\n",
    "        p = None\n",
    "    prots.append(p)\n",
    "\n",
    "df['Protein'] = prots\n",
    "df.shape"
   ]
  },
  {
   "cell_type": "code",
   "execution_count": 23,
   "metadata": {},
   "outputs": [
    {
     "output_type": "execute_result",
     "data": {
      "text/plain": [
       "(1372, 5)"
      ]
     },
     "metadata": {},
     "execution_count": 23
    }
   ],
   "source": [
    "df = df.loc[df['Protein'].notnull()]\n",
    "df.shape"
   ]
  },
  {
   "cell_type": "code",
   "execution_count": 24,
   "metadata": {},
   "outputs": [],
   "source": [
    "df.to_csv('../data/lstm-hpa.csv', index=None)"
   ]
  },
  {
   "cell_type": "code",
   "execution_count": 25,
   "metadata": {},
   "outputs": [
    {
     "output_type": "execute_result",
     "data": {
      "text/plain": [
       "(77, 2)"
      ]
     },
     "metadata": {},
     "execution_count": 25
    }
   ],
   "source": [
    "df1 = df[df['Reliability'] == 'Enhanced']\n",
    "df1 = df1[['Protein', 'Locations']]\n",
    "df1.shape"
   ]
  },
  {
   "cell_type": "code",
   "execution_count": 26,
   "metadata": {},
   "outputs": [
    {
     "output_type": "execute_result",
     "data": {
      "text/plain": [
       "(227, 2)"
      ]
     },
     "metadata": {},
     "execution_count": 26
    }
   ],
   "source": [
    "df2 = df[df['Reliability'] == 'Supported']\n",
    "df2 = df2[['Protein', 'Locations']]\n",
    "df2.shape"
   ]
  },
  {
   "cell_type": "code",
   "execution_count": 27,
   "metadata": {},
   "outputs": [
    {
     "output_type": "execute_result",
     "data": {
      "text/plain": [
       "(432, 2)"
      ]
     },
     "metadata": {},
     "execution_count": 27
    }
   ],
   "source": [
    "df3 = df[df['Reliability'] == 'Approved']\n",
    "df3 = df3[['Protein', 'Locations']]\n",
    "df3.shape"
   ]
  },
  {
   "cell_type": "code",
   "execution_count": 28,
   "metadata": {},
   "outputs": [
    {
     "output_type": "execute_result",
     "data": {
      "text/plain": [
       "(636, 2)"
      ]
     },
     "metadata": {},
     "execution_count": 28
    }
   ],
   "source": [
    "df4 = df[df['Reliability'] == 'Uncertain']\n",
    "df4 = df4[['Protein', 'Locations']]\n",
    "df4.shape"
   ]
  },
  {
   "cell_type": "code",
   "execution_count": 29,
   "metadata": {},
   "outputs": [
    {
     "output_type": "execute_result",
     "data": {
      "text/plain": [
       "(77, 30)"
      ]
     },
     "metadata": {},
     "execution_count": 29
    }
   ],
   "source": [
    "df_new = pd.read_csv('../data/lstm_output.csv')\n",
    "df1 = df1.merge(df_new, on='Protein', how='inner')\n",
    "df1.shape"
   ]
  },
  {
   "cell_type": "code",
   "execution_count": 30,
   "metadata": {},
   "outputs": [
    {
     "output_type": "execute_result",
     "data": {
      "text/plain": [
       "(227, 30)"
      ]
     },
     "metadata": {},
     "execution_count": 30
    }
   ],
   "source": [
    "df2 = df2.merge(df_new, on='Protein', how='inner')\n",
    "df2.shape"
   ]
  },
  {
   "cell_type": "code",
   "execution_count": 31,
   "metadata": {},
   "outputs": [
    {
     "output_type": "execute_result",
     "data": {
      "text/plain": [
       "(432, 30)"
      ]
     },
     "metadata": {},
     "execution_count": 31
    }
   ],
   "source": [
    "df3 = df3.merge(df_new, on='Protein', how='inner')\n",
    "df3.shape"
   ]
  },
  {
   "cell_type": "code",
   "execution_count": 32,
   "metadata": {},
   "outputs": [
    {
     "output_type": "execute_result",
     "data": {
      "text/plain": [
       "(636, 30)"
      ]
     },
     "metadata": {},
     "execution_count": 32
    }
   ],
   "source": [
    "df4 = df4.merge(df_new, on='Protein', how='inner')\n",
    "df4.shape"
   ]
  },
  {
   "cell_type": "code",
   "execution_count": 33,
   "metadata": {},
   "outputs": [
    {
     "output_type": "execute_result",
     "data": {
      "text/plain": [
       "(1372, 31)"
      ]
     },
     "metadata": {},
     "execution_count": 33
    }
   ],
   "source": [
    "df_all = df[['Protein', 'Locations', 'Reliability']]\n",
    "df_all = df_all.merge(df_new, on='Protein', how='inner')\n",
    "df_all.shape"
   ]
  },
  {
   "cell_type": "code",
   "execution_count": 34,
   "metadata": {},
   "outputs": [],
   "source": [
    "df1.to_csv('../data/lstm_enhanced.csv', index=None)\n",
    "df2.to_csv('../data/lstm_supported.csv', index=None)\n",
    "df3.to_csv('../data/lstm_approved.csv', index=None)\n",
    "df4.to_csv('../data/lstm_uncertain.csv', index=None)"
   ]
  },
  {
   "cell_type": "code",
   "execution_count": 35,
   "metadata": {},
   "outputs": [],
   "source": [
    "thres_list =[\n",
    "    0.5753,\n",
    "    0.6,\n",
    "    0.56688,\n",
    "    0.6143,\n",
    "    0.5026,\n",
    "    0.5057,\n",
    "    0.471,\n",
    "    0.5047,\n",
    "    0.49586,\n",
    "    0.409,\n",
    "    0.56156,\n",
    "    0.4413,\n",
    "    0.50756,\n",
    "    0.5062,\n",
    "    0.4634,\n",
    "    0.501,\n",
    "    0.5088,\n",
    "    0.484,\n",
    "    0.5017,\n",
    "    0.588,\n",
    "    0.516,\n",
    "    0.4325,\n",
    "    0.412,\n",
    "    0.5456,\n",
    "    0.5186,\n",
    "    0.5005,\n",
    "    0.4496,\n",
    "    0.5993\n",
    "]"
   ]
  },
  {
   "cell_type": "code",
   "execution_count": 36,
   "metadata": {},
   "outputs": [
    {
     "output_type": "execute_result",
     "data": {
      "text/plain": [
       "           Protein                                     Locations  \\\n",
       "0  ENSP00000406757                     {'Endoplasmic reticulum'}   \n",
       "1  ENSP00000306640                     {'Endoplasmic reticulum'}   \n",
       "2  ENSP00000034275                               {'Nucleoplasm'}   \n",
       "3  ENSP00000378451                               {'Nucleoplasm'}   \n",
       "4  ENSP00000253928  {'Cytosol', 'Nucleoplasm', 'Nuclear bodies'}   \n",
       "\n",
       "   Actin filaments  Cell Junctions  Centriolar satellite  Centrosome  \\\n",
       "0         0.001722        0.014736              0.002636    0.006245   \n",
       "1         0.005205        0.010469              0.011290    0.010372   \n",
       "2         0.011434        0.010328              0.010303    0.014271   \n",
       "3         0.142840        0.017710              0.080239    0.041999   \n",
       "4         0.013052        0.008326              0.010919    0.008572   \n",
       "\n",
       "   Cytokinetic bridge  Cytoplasmic bodies   Cytosol  Endoplasmic reticulum  \\\n",
       "0            0.001295            0.000025  0.047880               0.094151   \n",
       "1            0.011835            0.001017  0.370142               0.035072   \n",
       "2            0.022424            0.001772  0.418319               0.027593   \n",
       "3            0.036299            0.012811  0.333657               0.004521   \n",
       "4            0.010574            0.006398  0.334167               0.020617   \n",
       "\n",
       "   ...  Mitotic spindle  Nuclear bodies  Nuclear membrane  Nuclear speckles  \\\n",
       "0  ...         0.000015        0.001577          0.001441          0.006502   \n",
       "1  ...         0.001909        0.048036          0.019869          0.010488   \n",
       "2  ...         0.002298        0.036616          0.009879          0.012671   \n",
       "3  ...         0.053426        0.030956          0.021376          0.177079   \n",
       "4  ...         0.007429        0.046129          0.017265          0.019759   \n",
       "\n",
       "   Nucleoli  Nucleoli fibrillar center  Nucleoplasm  Peroxisomes  \\\n",
       "0  0.014051                   0.003790     0.156449     0.000094   \n",
       "1  0.018155                   0.008725     0.192937     0.001909   \n",
       "2  0.026137                   0.017352     0.242839     0.003638   \n",
       "3  0.008340                   0.031174     0.744344     0.050406   \n",
       "4  0.024112                   0.018624     0.345217     0.009463   \n",
       "\n",
       "   Plasma membrane  Vesicles  \n",
       "0         0.085810  0.180249  \n",
       "1         0.101142  0.126527  \n",
       "2         0.091770  0.057281  \n",
       "3         0.065920  0.098864  \n",
       "4         0.050379  0.127206  \n",
       "\n",
       "[5 rows x 30 columns]"
      ],
      "text/html": "<div>\n<style scoped>\n    .dataframe tbody tr th:only-of-type {\n        vertical-align: middle;\n    }\n\n    .dataframe tbody tr th {\n        vertical-align: top;\n    }\n\n    .dataframe thead th {\n        text-align: right;\n    }\n</style>\n<table border=\"1\" class=\"dataframe\">\n  <thead>\n    <tr style=\"text-align: right;\">\n      <th></th>\n      <th>Protein</th>\n      <th>Locations</th>\n      <th>Actin filaments</th>\n      <th>Cell Junctions</th>\n      <th>Centriolar satellite</th>\n      <th>Centrosome</th>\n      <th>Cytokinetic bridge</th>\n      <th>Cytoplasmic bodies</th>\n      <th>Cytosol</th>\n      <th>Endoplasmic reticulum</th>\n      <th>...</th>\n      <th>Mitotic spindle</th>\n      <th>Nuclear bodies</th>\n      <th>Nuclear membrane</th>\n      <th>Nuclear speckles</th>\n      <th>Nucleoli</th>\n      <th>Nucleoli fibrillar center</th>\n      <th>Nucleoplasm</th>\n      <th>Peroxisomes</th>\n      <th>Plasma membrane</th>\n      <th>Vesicles</th>\n    </tr>\n  </thead>\n  <tbody>\n    <tr>\n      <th>0</th>\n      <td>ENSP00000406757</td>\n      <td>{'Endoplasmic reticulum'}</td>\n      <td>0.001722</td>\n      <td>0.014736</td>\n      <td>0.002636</td>\n      <td>0.006245</td>\n      <td>0.001295</td>\n      <td>0.000025</td>\n      <td>0.047880</td>\n      <td>0.094151</td>\n      <td>...</td>\n      <td>0.000015</td>\n      <td>0.001577</td>\n      <td>0.001441</td>\n      <td>0.006502</td>\n      <td>0.014051</td>\n      <td>0.003790</td>\n      <td>0.156449</td>\n      <td>0.000094</td>\n      <td>0.085810</td>\n      <td>0.180249</td>\n    </tr>\n    <tr>\n      <th>1</th>\n      <td>ENSP00000306640</td>\n      <td>{'Endoplasmic reticulum'}</td>\n      <td>0.005205</td>\n      <td>0.010469</td>\n      <td>0.011290</td>\n      <td>0.010372</td>\n      <td>0.011835</td>\n      <td>0.001017</td>\n      <td>0.370142</td>\n      <td>0.035072</td>\n      <td>...</td>\n      <td>0.001909</td>\n      <td>0.048036</td>\n      <td>0.019869</td>\n      <td>0.010488</td>\n      <td>0.018155</td>\n      <td>0.008725</td>\n      <td>0.192937</td>\n      <td>0.001909</td>\n      <td>0.101142</td>\n      <td>0.126527</td>\n    </tr>\n    <tr>\n      <th>2</th>\n      <td>ENSP00000034275</td>\n      <td>{'Nucleoplasm'}</td>\n      <td>0.011434</td>\n      <td>0.010328</td>\n      <td>0.010303</td>\n      <td>0.014271</td>\n      <td>0.022424</td>\n      <td>0.001772</td>\n      <td>0.418319</td>\n      <td>0.027593</td>\n      <td>...</td>\n      <td>0.002298</td>\n      <td>0.036616</td>\n      <td>0.009879</td>\n      <td>0.012671</td>\n      <td>0.026137</td>\n      <td>0.017352</td>\n      <td>0.242839</td>\n      <td>0.003638</td>\n      <td>0.091770</td>\n      <td>0.057281</td>\n    </tr>\n    <tr>\n      <th>3</th>\n      <td>ENSP00000378451</td>\n      <td>{'Nucleoplasm'}</td>\n      <td>0.142840</td>\n      <td>0.017710</td>\n      <td>0.080239</td>\n      <td>0.041999</td>\n      <td>0.036299</td>\n      <td>0.012811</td>\n      <td>0.333657</td>\n      <td>0.004521</td>\n      <td>...</td>\n      <td>0.053426</td>\n      <td>0.030956</td>\n      <td>0.021376</td>\n      <td>0.177079</td>\n      <td>0.008340</td>\n      <td>0.031174</td>\n      <td>0.744344</td>\n      <td>0.050406</td>\n      <td>0.065920</td>\n      <td>0.098864</td>\n    </tr>\n    <tr>\n      <th>4</th>\n      <td>ENSP00000253928</td>\n      <td>{'Cytosol', 'Nucleoplasm', 'Nuclear bodies'}</td>\n      <td>0.013052</td>\n      <td>0.008326</td>\n      <td>0.010919</td>\n      <td>0.008572</td>\n      <td>0.010574</td>\n      <td>0.006398</td>\n      <td>0.334167</td>\n      <td>0.020617</td>\n      <td>...</td>\n      <td>0.007429</td>\n      <td>0.046129</td>\n      <td>0.017265</td>\n      <td>0.019759</td>\n      <td>0.024112</td>\n      <td>0.018624</td>\n      <td>0.345217</td>\n      <td>0.009463</td>\n      <td>0.050379</td>\n      <td>0.127206</td>\n    </tr>\n  </tbody>\n</table>\n<p>5 rows × 30 columns</p>\n</div>"
     },
     "metadata": {},
     "execution_count": 36
    }
   ],
   "source": [
    "df1.head()"
   ]
  },
  {
   "cell_type": "code",
   "execution_count": 37,
   "metadata": {},
   "outputs": [],
   "source": [
    "columns = list(df1.columns.values)\n",
    "locs = columns[2:]\n",
    "loc2id = {k: v for v,k in enumerate(locs)}"
   ]
  },
  {
   "cell_type": "code",
   "execution_count": 38,
   "metadata": {},
   "outputs": [],
   "source": [
    "def get_set(locs):\n",
    "    locs = locs[2:-2]\n",
    "    locs = locs.replace(\"'\", \"\")\n",
    "    locs = locs.split(',')\n",
    "    locs = [loc.strip() for loc in locs]\n",
    "    locs = set(locs)\n",
    "    return locs\n",
    "\n",
    "def binarize(l, thresh_list, alpha):\n",
    "    bin_list = list()\n",
    "    for thresh, val in zip(thresh_list, l):\n",
    "        if val > (alpha*thresh):\n",
    "            bin_list.append(1)\n",
    "        else:\n",
    "            bin_list.append(0)\n",
    "    return bin_list\n",
    "\n",
    "def get_score(df, thresh, alpha=1.2):\n",
    "    predictions = df.iloc[:, -28:]\n",
    "    predictions = predictions.values.tolist()\n",
    "    bin_predictions = list()\n",
    "    pred_set = list()\n",
    "    for probab in predictions:\n",
    "        bin_probab = binarize(probab, thresh, alpha)\n",
    "        bin_predictions.append(bin_probab)\n",
    "        idx = [index for index, val in enumerate(bin_probab) if val == 1]\n",
    "        loc_list = [locs[index] for index in idx]\n",
    "        pred_set.append(set(loc_list))\n",
    "\n",
    "    tar_set = list()\n",
    "    for i in df.index:\n",
    "        tar_loc = get_set(df['Locations'][i])\n",
    "        tar_set.append(tar_loc)\n",
    "    \n",
    "    total, correct, count, extra = 0, 0, 0, 0\n",
    "    for tar, pred in zip(tar_set, pred_set):\n",
    "        total += len(tar)\n",
    "        common = tar.intersection(pred)\n",
    "        correct += len(common)\n",
    "        \n",
    "        count += 1\n",
    "        new = pred - tar\n",
    "        extra += len(new)\n",
    "\n",
    "    return (correct/total), (extra/count)"
   ]
  },
  {
   "cell_type": "code",
   "execution_count": 39,
   "metadata": {
    "tags": []
   },
   "outputs": [
    {
     "output_type": "execute_result",
     "data": {
      "text/plain": [
       "(0.13043478260869565, 0.2077922077922078)"
      ]
     },
     "metadata": {},
     "execution_count": 39
    }
   ],
   "source": [
    "# Enhanced score\n",
    "score = get_score(df1, thres_list)\n",
    "score"
   ]
  },
  {
   "cell_type": "code",
   "execution_count": 40,
   "metadata": {},
   "outputs": [
    {
     "output_type": "execute_result",
     "data": {
      "text/plain": [
       "(0.0838150289017341, 0.2775330396475771)"
      ]
     },
     "metadata": {},
     "execution_count": 40
    }
   ],
   "source": [
    "# Supported score\n",
    "score = get_score(df2, thres_list)\n",
    "score"
   ]
  },
  {
   "cell_type": "code",
   "execution_count": 41,
   "metadata": {},
   "outputs": [
    {
     "output_type": "execute_result",
     "data": {
      "text/plain": [
       "(0.07774390243902439, 0.17824074074074073)"
      ]
     },
     "metadata": {},
     "execution_count": 41
    }
   ],
   "source": [
    "# Approved score\n",
    "score = get_score(df3, thres_list)\n",
    "score"
   ]
  },
  {
   "cell_type": "code",
   "execution_count": 42,
   "metadata": {},
   "outputs": [
    {
     "output_type": "execute_result",
     "data": {
      "text/plain": [
       "(0.4391829155060353, 9.536163522012579)"
      ]
     },
     "metadata": {},
     "execution_count": 42
    }
   ],
   "source": [
    "# Uncertain score\n",
    "score = get_score(df4, thres_list)\n",
    "score"
   ]
  },
  {
   "cell_type": "code",
   "execution_count": 43,
   "metadata": {},
   "outputs": [
    {
     "output_type": "execute_result",
     "data": {
      "text/plain": [
       "(0.26024873330262555, 4.534256559766764)"
      ]
     },
     "metadata": {},
     "execution_count": 43
    }
   ],
   "source": [
    "# Overall score\n",
    "score = get_score(df_all, thres_list)\n",
    "score"
   ]
  },
  {
   "cell_type": "code",
   "execution_count": 44,
   "metadata": {},
   "outputs": [],
   "source": [
    "import os\n",
    "def match(x, loc):\n",
    "    locations = get_set(x)\n",
    "    if loc in locations:\n",
    "        return \"Yes\"\n",
    "    return \"No\"\n",
    "\n",
    "def generate_plots(df, path=None):\n",
    "    cols_list = list(df.columns.values)\n",
    "    locs = cols_list[-28:]\n",
    "    loc_col = cols_list[1]\n",
    "    \n",
    "    if (path is not None) and (not os.path.isdir(path)):\n",
    "        os.mkdir(path)\n",
    "\n",
    "    for i,loc in enumerate(locs):\n",
    "        x = df[loc].to_list()    \n",
    "        y = df[loc_col].apply(match, args=(loc,))\n",
    "        y = y.to_list()\n",
    "        z = [loc]*len(y)\n",
    "        \n",
    "        ref_df = pd.DataFrame({\n",
    "            \"Probability\": x, \n",
    "            \"HPA\": y,\n",
    "            \"Location\":z\n",
    "        })\n",
    "        if i == 0:\n",
    "            final_df = ref_df\n",
    "        else:\n",
    "            final_df = pd.concat([final_df, ref_df], ignore_index=True)\n",
    "    \n",
    "    sns.set(style='whitegrid', rc={'figure.figsize':(15,12)})\n",
    "    ax = sns.swarmplot(x=\"Probability\", y=\"Location\", hue=\"HPA\", data=final_df, dodge=True)\n",
    "    ax.set_xlim(0,1)\n",
    "    plt.savefig(path+'.png')\n",
    "    plt.clf()"
   ]
  },
  {
   "cell_type": "code",
   "execution_count": 61,
   "metadata": {},
   "outputs": [
    {
     "output_type": "display_data",
     "data": {
      "text/plain": "<Figure size 1080x864 with 0 Axes>"
     },
     "metadata": {}
    }
   ],
   "source": [
    "generate_plots(df1, path='../inference/Enhanced')"
   ]
  },
  {
   "cell_type": "code",
   "execution_count": 62,
   "metadata": {},
   "outputs": [
    {
     "output_type": "display_data",
     "data": {
      "text/plain": "<Figure size 1080x864 with 0 Axes>"
     },
     "metadata": {}
    }
   ],
   "source": [
    "generate_plots(df2, path='../inference/Supported')"
   ]
  },
  {
   "cell_type": "code",
   "execution_count": 63,
   "metadata": {},
   "outputs": [
    {
     "output_type": "display_data",
     "data": {
      "text/plain": "<Figure size 1080x864 with 0 Axes>"
     },
     "metadata": {}
    }
   ],
   "source": [
    "generate_plots(df3, path='../inference/Approved')"
   ]
  },
  {
   "cell_type": "code",
   "execution_count": 64,
   "metadata": {},
   "outputs": [
    {
     "output_type": "display_data",
     "data": {
      "text/plain": "<Figure size 1080x864 with 0 Axes>"
     },
     "metadata": {}
    }
   ],
   "source": [
    "generate_plots(df4, path='../inference/Uncertain')"
   ]
  },
  {
   "cell_type": "code",
   "execution_count": 45,
   "metadata": {},
   "outputs": [],
   "source": [
    "def unify_df(df):\n",
    "    cols_list = list(df.columns.values)\n",
    "    locs = cols_list[-28:]\n",
    "    loc_col = cols_list[1]\n",
    "\n",
    "    for i,loc in enumerate(locs):\n",
    "        x = df[loc].to_list()    \n",
    "        y = df[loc_col].apply(match, args=(loc,))\n",
    "        y = y.to_list()\n",
    "        z = [loc]*len(y)\n",
    "        rel = df['Reliability'].to_list()\n",
    "        \n",
    "        ref_df = pd.DataFrame({\n",
    "            \"Probability\": x, \n",
    "            \"HPA\": y,\n",
    "            \"Location\": z,\n",
    "            \"Reliability\": rel\n",
    "        })\n",
    "        if i == 0:\n",
    "            final_df = ref_df\n",
    "        else:\n",
    "            final_df = pd.concat([final_df, ref_df], ignore_index=True)\n",
    "\n",
    "    return final_df\n"
   ]
  },
  {
   "cell_type": "code",
   "execution_count": 46,
   "metadata": {},
   "outputs": [
    {
     "output_type": "execute_result",
     "data": {
      "text/plain": [
       "(38416, 4)"
      ]
     },
     "metadata": {},
     "execution_count": 46
    }
   ],
   "source": [
    "df = unify_df(df_all)\n",
    "df.shape"
   ]
  },
  {
   "cell_type": "code",
   "execution_count": 47,
   "metadata": {},
   "outputs": [],
   "source": [
    "df.to_csv('../data/df_plots.csv', index=None)"
   ]
  },
  {
   "cell_type": "code",
   "execution_count": 48,
   "metadata": {},
   "outputs": [],
   "source": [
    "# Technically new notebook"
   ]
  },
  {
   "cell_type": "code",
   "execution_count": 78,
   "metadata": {},
   "outputs": [
    {
     "output_type": "execute_result",
     "data": {
      "text/plain": [
       "   Probability HPA         Location Reliability\n",
       "0     0.994914  No  Actin filaments   Uncertain\n",
       "1     0.018757  No  Actin filaments    Approved\n",
       "2     0.001722  No  Actin filaments    Enhanced\n",
       "3     0.979168  No  Actin filaments   Uncertain\n",
       "4     0.948109  No  Actin filaments   Uncertain"
      ],
      "text/html": "<div>\n<style scoped>\n    .dataframe tbody tr th:only-of-type {\n        vertical-align: middle;\n    }\n\n    .dataframe tbody tr th {\n        vertical-align: top;\n    }\n\n    .dataframe thead th {\n        text-align: right;\n    }\n</style>\n<table border=\"1\" class=\"dataframe\">\n  <thead>\n    <tr style=\"text-align: right;\">\n      <th></th>\n      <th>Probability</th>\n      <th>HPA</th>\n      <th>Location</th>\n      <th>Reliability</th>\n    </tr>\n  </thead>\n  <tbody>\n    <tr>\n      <th>0</th>\n      <td>0.994914</td>\n      <td>No</td>\n      <td>Actin filaments</td>\n      <td>Uncertain</td>\n    </tr>\n    <tr>\n      <th>1</th>\n      <td>0.018757</td>\n      <td>No</td>\n      <td>Actin filaments</td>\n      <td>Approved</td>\n    </tr>\n    <tr>\n      <th>2</th>\n      <td>0.001722</td>\n      <td>No</td>\n      <td>Actin filaments</td>\n      <td>Enhanced</td>\n    </tr>\n    <tr>\n      <th>3</th>\n      <td>0.979168</td>\n      <td>No</td>\n      <td>Actin filaments</td>\n      <td>Uncertain</td>\n    </tr>\n    <tr>\n      <th>4</th>\n      <td>0.948109</td>\n      <td>No</td>\n      <td>Actin filaments</td>\n      <td>Uncertain</td>\n    </tr>\n  </tbody>\n</table>\n</div>"
     },
     "metadata": {},
     "execution_count": 78
    }
   ],
   "source": [
    "import pandas as pd\n",
    "import seaborn as sns\n",
    "import matplotlib.pyplot as plt\n",
    "import plotly.express as px\n",
    "\n",
    "df = pd.read_csv('../data/df_plots.csv')\n",
    "df.head()"
   ]
  },
  {
   "cell_type": "code",
   "execution_count": 79,
   "metadata": {},
   "outputs": [],
   "source": [
    "def get_window(x):\n",
    "    if x >= 0.0 and x < 0.1:\n",
    "        return 0\n",
    "    if x >= 0.1 and x < 0.2:\n",
    "        return 1\n",
    "    if x >= 0.2 and x < 0.3:\n",
    "        return 2\n",
    "    if x >= 0.3 and x < 0.4:\n",
    "        return 3\n",
    "    if x >= 0.4 and x < 0.5:\n",
    "        return 4\n",
    "    if x >= 0.5 and x < 0.6:\n",
    "        return 5\n",
    "    if x >= 0.6 and x < 0.7:\n",
    "        return 6\n",
    "    if x >= 0.7 and x < 0.8:\n",
    "        return 7\n",
    "    if x >= 0.8 and x < 0.9:\n",
    "        return 8\n",
    "    return 9\n",
    "\n",
    "df['Probability'] = df['Probability'].apply(lambda x: get_window(x))"
   ]
  },
  {
   "cell_type": "code",
   "execution_count": 81,
   "metadata": {},
   "outputs": [
    {
     "output_type": "stream",
     "name": "stdout",
     "text": [
      "Mitochondria\n"
     ]
    }
   ],
   "source": [
    "def get_plot(df, rel, loc, loc_idx):\n",
    "    df = df[df['Reliability']==rel]\n",
    "    df = df[df['Location']==loc]\n",
    "    d_pred = [0]*10      # Because 10 reliability values\n",
    "    d_hpa = [0]*10       # Because 10 reliability values\n",
    "    for i in df.index:\n",
    "        prob = df['Probability'][i]\n",
    "        hpa = df['HPA'][i]\n",
    "        if hpa == \"Yes\":\n",
    "            hpa = 1\n",
    "        else:\n",
    "            hpa = 0\n",
    "        d_pred[prob]+=1\n",
    "        d_hpa[prob]+=hpa\n",
    "    d_vals = [x/y if y > 0 else -0.1 for x,y in zip(d_hpa, d_pred)]\n",
    "    locs = [loc_idx]*len(d_vals)\n",
    "    df = pd.DataFrame({\n",
    "        'Class_id': [*range(0,10)],\n",
    "        'Value': d_vals,\n",
    "        'Loc_id': locs\n",
    "    })\n",
    "    return df\n",
    "\n",
    "def reliability_plot(df):\n",
    "    reliability = df.Reliability.values.tolist()\n",
    "    reliability = list(set(reliability))\n",
    "    locs = df.Location.values.tolist()\n",
    "    locs = list(set(locs))\n",
    "    locs = sorted(locs)\n",
    "    for val in reliability:\n",
    "        for i,loc in enumerate(locs):\n",
    "            if i == 0:\n",
    "                final_df = get_plot(df, val, loc, i)\n",
    "            else:\n",
    "                new_df = get_plot(df, val, loc, i)\n",
    "                final_df = pd.concat([final_df, new_df], ignore_index=True) \n",
    "        # df_wide = final_df.pivot('Class_id', 'Loc_id', 'Value')\n",
    "        # plt.figure(figsize=(10,5))\n",
    "        # sns.lineplot(data=df_wide, dashes=False)\n",
    "        # plt.legend(bbox_to_anchor=(1.01, 1),borderaxespad=0)\n",
    "        # plt.tight_layout()\n",
    "        # plt.savefig(f'../inference/{val}_new.png', format='png')\n",
    "        fig = px.line(final_df, x='Class_id', y='Value', color='Loc_id')\n",
    "        fig.write_html(f'../inference/{val}.html')\n",
    "\n",
    "reliability_plot(df)"
   ]
  },
  {
   "cell_type": "code",
   "execution_count": 82,
   "metadata": {},
   "outputs": [],
   "source": [
    "def get_plot(df, rel, loc):\n",
    "    df = df[df['Reliability']==rel]\n",
    "    df = df[df['Location']==loc]\n",
    "    d_pred = [0]*10      # Because 10 reliability values\n",
    "    d_hpa = [0]*10       # Because 10 reliability values\n",
    "    for i in df.index:\n",
    "        prob = df['Probability'][i]\n",
    "        hpa = df['HPA'][i]\n",
    "        if hpa == \"Yes\":\n",
    "            hpa = 1\n",
    "        else:\n",
    "            hpa = 0\n",
    "        d_pred[prob]+=1\n",
    "        d_hpa[prob]+=hpa\n",
    "    d_vals = [x/y if y > 0 else -0.1 for x,y in zip(d_hpa, d_pred)]\n",
    "    rels = [rel]*len(d_vals)\n",
    "    df = pd.DataFrame({\n",
    "        'Class_id': [*range(0,10)],\n",
    "        'Value': d_vals,\n",
    "        'Reliability': rels\n",
    "    })\n",
    "    return df            \n",
    "\n",
    "def location_plot(df):\n",
    "    reliability = df.Reliability.values.tolist()\n",
    "    reliability = list(set(reliability))\n",
    "    locs = df.Location.values.tolist()\n",
    "    locs = list(set(locs))\n",
    "    locs = sorted(locs)\n",
    "    for loc in locs:\n",
    "        for i,val in enumerate(reliability):\n",
    "            if i == 0:\n",
    "                final_df = get_plot(df, val, loc)\n",
    "            else:\n",
    "                new_df = get_plot(df, val, loc)\n",
    "                final_df = pd.concat([final_df, new_df], ignore_index=True)\n",
    "        fig = px.line(final_df, x='Class_id', y='Value', color='Reliability')\n",
    "        fig.write_html(f'../inference/{loc}.html')\n",
    "\n",
    "location_plot(df)"
   ]
  },
  {
   "cell_type": "code",
   "execution_count": null,
   "metadata": {},
   "outputs": [],
   "source": []
  }
 ]
}