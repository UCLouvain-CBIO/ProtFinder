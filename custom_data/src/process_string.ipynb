{
 "cells": [
  {
   "cell_type": "code",
   "execution_count": 1,
   "metadata": {},
   "outputs": [],
   "source": [
    "import pandas as pd"
   ]
  },
  {
   "cell_type": "code",
   "execution_count": 2,
   "metadata": {},
   "outputs": [],
   "source": [
    "df = pd.read_csv('../data/string_human.csv')  # Load STRING db data"
   ]
  },
  {
   "cell_type": "code",
   "execution_count": 3,
   "metadata": {},
   "outputs": [],
   "source": [
    "def modify(x):\n",
    "    ensembl = x.split('.')[-1]        # To remove the \"9606\" from the beginning of each protein ID\n",
    "    return ensembl"
   ]
  },
  {
   "cell_type": "code",
   "execution_count": 4,
   "metadata": {},
   "outputs": [
    {
     "output_type": "execute_result",
     "data": {
      "text/plain": "                 protein1         protein2  neighborhood  fusion  cooccurence  \\\n0         ENSP00000000233  ENSP00000272298             0       0          332   \n1         ENSP00000000233  ENSP00000253401             0       0            0   \n2         ENSP00000000233  ENSP00000401445             0       0            0   \n3         ENSP00000000233  ENSP00000418915             0       0            0   \n4         ENSP00000000233  ENSP00000327801             0       0            0   \n...                   ...              ...           ...     ...          ...   \n11759449  ENSP00000485678  ENSP00000310488             0       0            0   \n11759450  ENSP00000485678  ENSP00000342448             0       0            0   \n11759451  ENSP00000485678  ENSP00000350222             0       0            0   \n11759452  ENSP00000485678  ENSP00000367590             0       0            0   \n11759453  ENSP00000485678  ENSP00000349930             0       0            0   \n\n          coexpression  experimental  database  textmining  combined_score  \n0                   62           181         0         125             490  \n1                    0           186         0          56             198  \n2                    0           159         0           0             159  \n3                   61           158         0         542             606  \n4                   88            78         0          89             167  \n...                ...           ...       ...         ...             ...  \n11759449           167             0         0           0             167  \n11759450           175             0         0           0             175  \n11759451           195             0         0           0             195  \n11759452             0             0       900           0             900  \n11759453           213             0         0           0             213  \n\n[11759454 rows x 10 columns]",
      "text/html": "<div>\n<style scoped>\n    .dataframe tbody tr th:only-of-type {\n        vertical-align: middle;\n    }\n\n    .dataframe tbody tr th {\n        vertical-align: top;\n    }\n\n    .dataframe thead th {\n        text-align: right;\n    }\n</style>\n<table border=\"1\" class=\"dataframe\">\n  <thead>\n    <tr style=\"text-align: right;\">\n      <th></th>\n      <th>protein1</th>\n      <th>protein2</th>\n      <th>neighborhood</th>\n      <th>fusion</th>\n      <th>cooccurence</th>\n      <th>coexpression</th>\n      <th>experimental</th>\n      <th>database</th>\n      <th>textmining</th>\n      <th>combined_score</th>\n    </tr>\n  </thead>\n  <tbody>\n    <tr>\n      <th>0</th>\n      <td>ENSP00000000233</td>\n      <td>ENSP00000272298</td>\n      <td>0</td>\n      <td>0</td>\n      <td>332</td>\n      <td>62</td>\n      <td>181</td>\n      <td>0</td>\n      <td>125</td>\n      <td>490</td>\n    </tr>\n    <tr>\n      <th>1</th>\n      <td>ENSP00000000233</td>\n      <td>ENSP00000253401</td>\n      <td>0</td>\n      <td>0</td>\n      <td>0</td>\n      <td>0</td>\n      <td>186</td>\n      <td>0</td>\n      <td>56</td>\n      <td>198</td>\n    </tr>\n    <tr>\n      <th>2</th>\n      <td>ENSP00000000233</td>\n      <td>ENSP00000401445</td>\n      <td>0</td>\n      <td>0</td>\n      <td>0</td>\n      <td>0</td>\n      <td>159</td>\n      <td>0</td>\n      <td>0</td>\n      <td>159</td>\n    </tr>\n    <tr>\n      <th>3</th>\n      <td>ENSP00000000233</td>\n      <td>ENSP00000418915</td>\n      <td>0</td>\n      <td>0</td>\n      <td>0</td>\n      <td>61</td>\n      <td>158</td>\n      <td>0</td>\n      <td>542</td>\n      <td>606</td>\n    </tr>\n    <tr>\n      <th>4</th>\n      <td>ENSP00000000233</td>\n      <td>ENSP00000327801</td>\n      <td>0</td>\n      <td>0</td>\n      <td>0</td>\n      <td>88</td>\n      <td>78</td>\n      <td>0</td>\n      <td>89</td>\n      <td>167</td>\n    </tr>\n    <tr>\n      <th>...</th>\n      <td>...</td>\n      <td>...</td>\n      <td>...</td>\n      <td>...</td>\n      <td>...</td>\n      <td>...</td>\n      <td>...</td>\n      <td>...</td>\n      <td>...</td>\n      <td>...</td>\n    </tr>\n    <tr>\n      <th>11759449</th>\n      <td>ENSP00000485678</td>\n      <td>ENSP00000310488</td>\n      <td>0</td>\n      <td>0</td>\n      <td>0</td>\n      <td>167</td>\n      <td>0</td>\n      <td>0</td>\n      <td>0</td>\n      <td>167</td>\n    </tr>\n    <tr>\n      <th>11759450</th>\n      <td>ENSP00000485678</td>\n      <td>ENSP00000342448</td>\n      <td>0</td>\n      <td>0</td>\n      <td>0</td>\n      <td>175</td>\n      <td>0</td>\n      <td>0</td>\n      <td>0</td>\n      <td>175</td>\n    </tr>\n    <tr>\n      <th>11759451</th>\n      <td>ENSP00000485678</td>\n      <td>ENSP00000350222</td>\n      <td>0</td>\n      <td>0</td>\n      <td>0</td>\n      <td>195</td>\n      <td>0</td>\n      <td>0</td>\n      <td>0</td>\n      <td>195</td>\n    </tr>\n    <tr>\n      <th>11759452</th>\n      <td>ENSP00000485678</td>\n      <td>ENSP00000367590</td>\n      <td>0</td>\n      <td>0</td>\n      <td>0</td>\n      <td>0</td>\n      <td>0</td>\n      <td>900</td>\n      <td>0</td>\n      <td>900</td>\n    </tr>\n    <tr>\n      <th>11759453</th>\n      <td>ENSP00000485678</td>\n      <td>ENSP00000349930</td>\n      <td>0</td>\n      <td>0</td>\n      <td>0</td>\n      <td>213</td>\n      <td>0</td>\n      <td>0</td>\n      <td>0</td>\n      <td>213</td>\n    </tr>\n  </tbody>\n</table>\n<p>11759454 rows × 10 columns</p>\n</div>"
     },
     "metadata": {},
     "execution_count": 4
    }
   ],
   "source": [
    "df['protein1'] = df['protein1'].apply(modify) # Applying above function on protein 1\n",
    "df['protein2'] = df['protein2'].apply(modify) # Applying above function on protein 2\n",
    "df"
   ]
  },
  {
   "cell_type": "code",
   "execution_count": 5,
   "metadata": {},
   "outputs": [
    {
     "output_type": "execute_result",
     "data": {
      "text/plain": "0    {ENSP00000000233, ENSP00000272298}\n1    {ENSP00000000233, ENSP00000253401}\n2    {ENSP00000000233, ENSP00000401445}\n3    {ENSP00000000233, ENSP00000418915}\n4    {ENSP00000000233, ENSP00000327801}\nName: combined_protein, dtype: object"
     },
     "metadata": {},
     "execution_count": 5
    }
   ],
   "source": [
    "# Get the set of proteins for a given row. This is used to remove duplicates.\n",
    "def f(x):\n",
    "    p1, p2 = x\n",
    "    return {p1, p2}\n",
    "\n",
    "df['combined_protein'] = df[['protein1', 'protein2']].apply(f, axis=1)\n",
    "df['combined_protein'].head()"
   ]
  },
  {
   "cell_type": "code",
   "execution_count": 6,
   "metadata": {},
   "outputs": [
    {
     "output_type": "stream",
     "name": "stdout",
     "text": "5879727\n"
    }
   ],
   "source": [
    "s = set()                   # set of all protein tuples\n",
    "drop_i = list()             # row indices that need to be removed\n",
    "\n",
    "for i in df.index:\n",
    "    l1 = len(s)             # length of set s before adding a tuple of protein\n",
    "    s.add(frozenset(df['combined_protein'][i]))\n",
    "    l2 = len(s)             # length of set s before adding a tuple of protein\n",
    "    if l1 == l2:\n",
    "        drop_i.append(i)    # drop a row if the tuple of protein already exists in the dataframe\n",
    "\n",
    "print(len(drop_i))          \n",
    "# Note that length of drop_i is exactly 50% of the total number of rows in the dataset"
   ]
  },
  {
   "cell_type": "code",
   "execution_count": 7,
   "metadata": {},
   "outputs": [],
   "source": [
    "df = df.drop(drop_i)                        # remove the duplicate rows\n",
    "df.to_csv('../data/string_no_reps.csv', index=None) # save it as a csv file"
   ]
  },
  {
   "cell_type": "code",
   "execution_count": 1,
   "metadata": {},
   "outputs": [
    {
     "output_type": "execute_result",
     "data": {
      "text/plain": "(5879727, 10)"
     },
     "metadata": {},
     "execution_count": 1
    }
   ],
   "source": [
    "import pandas as pd \n",
    "\n",
    "df = pd.read_csv('../data/string_no_reps.csv')\n",
    "\n",
    "l = df.columns.values.tolist()\n",
    "l.remove('combined_protein')                # remove the column that has tuple of proteins\n",
    "df = df[l]\n",
    "df.shape"
   ]
  },
  {
   "cell_type": "code",
   "execution_count": 2,
   "metadata": {},
   "outputs": [],
   "source": [
    "df.to_csv('../data/string_clean.csv', index=None)"
   ]
  },
  {
   "cell_type": "code",
   "execution_count": null,
   "metadata": {},
   "outputs": [],
   "source": []
  }
 ],
 "metadata": {
  "language_info": {
   "codemirror_mode": {
    "name": "ipython",
    "version": 3
   },
   "file_extension": ".py",
   "mimetype": "text/x-python",
   "name": "python",
   "nbconvert_exporter": "python",
   "pygments_lexer": "ipython3",
   "version": "3.7.6-final"
  },
  "orig_nbformat": 2,
  "kernelspec": {
   "name": "python3",
   "display_name": "Python 3"
  }
 },
 "nbformat": 4,
 "nbformat_minor": 2
}