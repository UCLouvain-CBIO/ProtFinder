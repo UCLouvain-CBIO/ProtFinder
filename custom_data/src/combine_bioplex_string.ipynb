{
 "cells": [
  {
   "cell_type": "code",
   "execution_count": 1,
   "metadata": {},
   "outputs": [],
   "source": [
    "import pandas as pd"
   ]
  },
  {
   "cell_type": "code",
   "execution_count": 2,
   "metadata": {
    "tags": []
   },
   "outputs": [
    {
     "name": "stdout",
     "output_type": "stream",
     "text": [
      "999\n"
     ]
    },
    {
     "data": {
      "text/plain": [
       "(698531, 11)"
      ]
     },
     "execution_count": 2,
     "metadata": {},
     "output_type": "execute_result"
    }
   ],
   "source": [
    "# Read processed STRING and BioPlex data files.\n",
    "string = pd.read_csv('../data/string_locs2.csv')\n",
    "bioplex = pd.read_csv('../data/bioplex_locs2.csv')\n",
    "\n",
    "# Extract relevant columns from STRING\n",
    "cols = ['protein1', 'gene1', 'reliability1', 'location1', 'protein2', 'gene2', 'reliability2', 'location2', 'combined_score', 'locations']\n",
    "string = string[cols]\n",
    "string = string[string.reliability1.notnull()]\n",
    "string = string[string.reliability2.notnull()]\n",
    "max_score = string['combined_score'].max(axis=0)\n",
    "print(max_score)\n",
    "string['combined_score'] = string['combined_score'].apply(lambda x: x/max_score)\n",
    "string['source'] = 'string'\n",
    "\n",
    "string.shape"
   ]
  },
  {
   "cell_type": "code",
   "execution_count": 3,
   "metadata": {},
   "outputs": [
    {
     "data": {
      "text/plain": [
       "(73664, 11)"
      ]
     },
     "execution_count": 3,
     "metadata": {},
     "output_type": "execute_result"
    }
   ],
   "source": [
    "bioplex['source'] = 'bioplex'\n",
    "bioplex.shape"
   ]
  },
  {
   "cell_type": "code",
   "execution_count": 4,
   "metadata": {},
   "outputs": [],
   "source": [
    "for i in string.index:\n",
    "    loc = string['locations'][i]\n",
    "    if \"et(\" in loc:\n",
    "        print(loc)\n",
    "        break"
   ]
  },
  {
   "cell_type": "code",
   "execution_count": 5,
   "metadata": {},
   "outputs": [],
   "source": [
    "def to_set(x):                      # Get set from location strings\n",
    "    try:\n",
    "        x = x[1:-1].replace('\"', '')\n",
    "        x = x.replace(\"'\", \"\")\n",
    "        x = x.split(',')\n",
    "        x = [loc.strip() for loc in x]\n",
    "        return set(x)\n",
    "    except:\n",
    "        return None"
   ]
  },
  {
   "cell_type": "code",
   "execution_count": 6,
   "metadata": {
    "tags": []
   },
   "outputs": [],
   "source": [
    "# t = pd.merge(string, bioplex, how='inner', on=['protein1', 'protein2']) # Get common datapoints\n",
    "# print(t.shape)\n",
    "\n",
    "# locs = list()\n",
    "\n",
    "# # Count number of common data points that are in agreement. Store the disagreements in a txt file.\n",
    "# for i in t.index:\n",
    "#     loc1 = to_set(t['locations_x'][i])\n",
    "#     loc2 = to_set(t['locations_y'][i])\n",
    "\n",
    "#     if loc1 == loc2:\n",
    "#         locs.append(loc1)\n",
    "#     else:\n",
    "#         locs.append(loc2)\n",
    "        \n",
    "# t['locations'] = locs            \n",
    "# print(t.head())"
   ]
  },
  {
   "cell_type": "code",
   "execution_count": null,
   "metadata": {},
   "outputs": [],
   "source": []
  },
  {
   "cell_type": "code",
   "execution_count": 7,
   "metadata": {},
   "outputs": [
    {
     "data": {
      "text/html": [
       "<div>\n",
       "<style scoped>\n",
       "    .dataframe tbody tr th:only-of-type {\n",
       "        vertical-align: middle;\n",
       "    }\n",
       "\n",
       "    .dataframe tbody tr th {\n",
       "        vertical-align: top;\n",
       "    }\n",
       "\n",
       "    .dataframe thead th {\n",
       "        text-align: right;\n",
       "    }\n",
       "</style>\n",
       "<table border=\"1\" class=\"dataframe\">\n",
       "  <thead>\n",
       "    <tr style=\"text-align: right;\">\n",
       "      <th></th>\n",
       "      <th>protein1</th>\n",
       "      <th>gene1</th>\n",
       "      <th>reliability1</th>\n",
       "      <th>location1</th>\n",
       "      <th>protein2</th>\n",
       "      <th>gene2</th>\n",
       "      <th>reliability2</th>\n",
       "      <th>location2</th>\n",
       "      <th>combined_score</th>\n",
       "      <th>locations</th>\n",
       "      <th>source</th>\n",
       "    </tr>\n",
       "  </thead>\n",
       "  <tbody>\n",
       "    <tr>\n",
       "      <th>0</th>\n",
       "      <td>ENSP00000001008</td>\n",
       "      <td>ENSG00000004478</td>\n",
       "      <td>Enhanced</td>\n",
       "      <td>[ Nucleoplasm,  Cytosol]</td>\n",
       "      <td>ENSP00000383851</td>\n",
       "      <td>ENSG00000162522</td>\n",
       "      <td>Supported</td>\n",
       "      <td>[Plasma membrane,   Cell Junctions,   Nucleopl...</td>\n",
       "      <td>0.182182</td>\n",
       "      <td>[Nucleoplasm]</td>\n",
       "      <td>string</td>\n",
       "    </tr>\n",
       "    <tr>\n",
       "      <th>1</th>\n",
       "      <td>ENSP00000001008</td>\n",
       "      <td>ENSG00000004478</td>\n",
       "      <td>Enhanced</td>\n",
       "      <td>[ Nucleoplasm,  Cytosol]</td>\n",
       "      <td>ENSP00000383063</td>\n",
       "      <td>ENSG00000180530</td>\n",
       "      <td>Supported</td>\n",
       "      <td>[Nucleoli,   Nucleoplasm,   Cytosol]</td>\n",
       "      <td>0.907908</td>\n",
       "      <td>[Nucleoplasm]</td>\n",
       "      <td>string</td>\n",
       "    </tr>\n",
       "    <tr>\n",
       "      <th>2</th>\n",
       "      <td>ENSP00000001008</td>\n",
       "      <td>ENSG00000004478</td>\n",
       "      <td>Enhanced</td>\n",
       "      <td>[ Nucleoplasm,  Cytosol]</td>\n",
       "      <td>ENSP00000369456</td>\n",
       "      <td>ENSG00000125877</td>\n",
       "      <td>Supported</td>\n",
       "      <td>[ Nucleoplasm,  Nuclear bodies,   Cytosol]</td>\n",
       "      <td>0.292292</td>\n",
       "      <td>[Nucleoplasm]</td>\n",
       "      <td>string</td>\n",
       "    </tr>\n",
       "    <tr>\n",
       "      <th>3</th>\n",
       "      <td>ENSP00000001008</td>\n",
       "      <td>ENSG00000004478</td>\n",
       "      <td>Enhanced</td>\n",
       "      <td>[ Nucleoplasm,  Cytosol]</td>\n",
       "      <td>ENSP00000431512</td>\n",
       "      <td>ENSG00000185122</td>\n",
       "      <td>Supported</td>\n",
       "      <td>[ Nucleoplasm,  Cytosol]</td>\n",
       "      <td>0.955956</td>\n",
       "      <td>[Cytosol, Nucleoplasm]</td>\n",
       "      <td>string</td>\n",
       "    </tr>\n",
       "    <tr>\n",
       "      <th>4</th>\n",
       "      <td>ENSP00000001008</td>\n",
       "      <td>ENSG00000004478</td>\n",
       "      <td>Enhanced</td>\n",
       "      <td>[ Nucleoplasm,  Cytosol]</td>\n",
       "      <td>ENSP00000410452</td>\n",
       "      <td>ENSG00000117632</td>\n",
       "      <td>Supported</td>\n",
       "      <td>[Cytosol]</td>\n",
       "      <td>0.235235</td>\n",
       "      <td>[Cytosol]</td>\n",
       "      <td>string</td>\n",
       "    </tr>\n",
       "  </tbody>\n",
       "</table>\n",
       "</div>"
      ],
      "text/plain": [
       "          protein1            gene1 reliability1                 location1  \\\n",
       "0  ENSP00000001008  ENSG00000004478     Enhanced  [ Nucleoplasm,  Cytosol]   \n",
       "1  ENSP00000001008  ENSG00000004478     Enhanced  [ Nucleoplasm,  Cytosol]   \n",
       "2  ENSP00000001008  ENSG00000004478     Enhanced  [ Nucleoplasm,  Cytosol]   \n",
       "3  ENSP00000001008  ENSG00000004478     Enhanced  [ Nucleoplasm,  Cytosol]   \n",
       "4  ENSP00000001008  ENSG00000004478     Enhanced  [ Nucleoplasm,  Cytosol]   \n",
       "\n",
       "          protein2            gene2 reliability2  \\\n",
       "0  ENSP00000383851  ENSG00000162522    Supported   \n",
       "1  ENSP00000383063  ENSG00000180530    Supported   \n",
       "2  ENSP00000369456  ENSG00000125877    Supported   \n",
       "3  ENSP00000431512  ENSG00000185122    Supported   \n",
       "4  ENSP00000410452  ENSG00000117632    Supported   \n",
       "\n",
       "                                           location2  combined_score  \\\n",
       "0  [Plasma membrane,   Cell Junctions,   Nucleopl...        0.182182   \n",
       "1               [Nucleoli,   Nucleoplasm,   Cytosol]        0.907908   \n",
       "2         [ Nucleoplasm,  Nuclear bodies,   Cytosol]        0.292292   \n",
       "3                           [ Nucleoplasm,  Cytosol]        0.955956   \n",
       "4                                          [Cytosol]        0.235235   \n",
       "\n",
       "                locations  source  \n",
       "0           [Nucleoplasm]  string  \n",
       "1           [Nucleoplasm]  string  \n",
       "2           [Nucleoplasm]  string  \n",
       "3  [Cytosol, Nucleoplasm]  string  \n",
       "4               [Cytosol]  string  "
      ]
     },
     "execution_count": 7,
     "metadata": {},
     "output_type": "execute_result"
    }
   ],
   "source": [
    "df = pd.concat([string, bioplex]).drop_duplicates(subset=['protein1', 'protein2'], keep='last').reset_index(drop=True)\n",
    "\n",
    "df.head()"
   ]
  },
  {
   "cell_type": "code",
   "execution_count": 8,
   "metadata": {},
   "outputs": [],
   "source": [
    "df = df.sample(frac=1)\n",
    "df.to_csv('../data/string_bioplex_trial.csv', index=None)"
   ]
  },
  {
   "cell_type": "code",
   "execution_count": 2,
   "metadata": {},
   "outputs": [
    {
     "ename": "FileNotFoundError",
     "evalue": "[Errno 2] No such file or directory: '../data/string_bioplex_trial.csv'",
     "output_type": "error",
     "traceback": [
      "\u001b[0;31m---------------------------------------------------------------------------\u001b[0m",
      "\u001b[0;31mFileNotFoundError\u001b[0m                         Traceback (most recent call last)",
      "\u001b[0;32m<ipython-input-2-669348e9179e>\u001b[0m in \u001b[0;36m<module>\u001b[0;34m\u001b[0m\n\u001b[1;32m      1\u001b[0m \u001b[0mlocs\u001b[0m \u001b[0;34m=\u001b[0m \u001b[0;34m[\u001b[0m\u001b[0;34m'Rods & Rings'\u001b[0m\u001b[0;34m,\u001b[0m \u001b[0;34m'Aggresome'\u001b[0m\u001b[0;34m,\u001b[0m \u001b[0;34m'Microtubule ends'\u001b[0m\u001b[0;34m,\u001b[0m \u001b[0;34m'Cleavage furrow'\u001b[0m\u001b[0;34m]\u001b[0m\u001b[0;34m\u001b[0m\u001b[0;34m\u001b[0m\u001b[0m\n\u001b[1;32m      2\u001b[0m \u001b[0;34m\u001b[0m\u001b[0m\n\u001b[0;32m----> 3\u001b[0;31m \u001b[0mdf\u001b[0m \u001b[0;34m=\u001b[0m \u001b[0mpd\u001b[0m\u001b[0;34m.\u001b[0m\u001b[0mread_csv\u001b[0m\u001b[0;34m(\u001b[0m\u001b[0;34m'../data/string_bioplex_trial.csv'\u001b[0m\u001b[0;34m)\u001b[0m\u001b[0;34m\u001b[0m\u001b[0;34m\u001b[0m\u001b[0m\n\u001b[0m",
      "\u001b[0;32m~/anaconda3/lib/python3.8/site-packages/pandas/io/parsers.py\u001b[0m in \u001b[0;36mread_csv\u001b[0;34m(filepath_or_buffer, sep, delimiter, header, names, index_col, usecols, squeeze, prefix, mangle_dupe_cols, dtype, engine, converters, true_values, false_values, skipinitialspace, skiprows, skipfooter, nrows, na_values, keep_default_na, na_filter, verbose, skip_blank_lines, parse_dates, infer_datetime_format, keep_date_col, date_parser, dayfirst, cache_dates, iterator, chunksize, compression, thousands, decimal, lineterminator, quotechar, quoting, doublequote, escapechar, comment, encoding, dialect, error_bad_lines, warn_bad_lines, delim_whitespace, low_memory, memory_map, float_precision, storage_options)\u001b[0m\n\u001b[1;32m    608\u001b[0m     \u001b[0mkwds\u001b[0m\u001b[0;34m.\u001b[0m\u001b[0mupdate\u001b[0m\u001b[0;34m(\u001b[0m\u001b[0mkwds_defaults\u001b[0m\u001b[0;34m)\u001b[0m\u001b[0;34m\u001b[0m\u001b[0;34m\u001b[0m\u001b[0m\n\u001b[1;32m    609\u001b[0m \u001b[0;34m\u001b[0m\u001b[0m\n\u001b[0;32m--> 610\u001b[0;31m     \u001b[0;32mreturn\u001b[0m \u001b[0m_read\u001b[0m\u001b[0;34m(\u001b[0m\u001b[0mfilepath_or_buffer\u001b[0m\u001b[0;34m,\u001b[0m \u001b[0mkwds\u001b[0m\u001b[0;34m)\u001b[0m\u001b[0;34m\u001b[0m\u001b[0;34m\u001b[0m\u001b[0m\n\u001b[0m\u001b[1;32m    611\u001b[0m \u001b[0;34m\u001b[0m\u001b[0m\n\u001b[1;32m    612\u001b[0m \u001b[0;34m\u001b[0m\u001b[0m\n",
      "\u001b[0;32m~/anaconda3/lib/python3.8/site-packages/pandas/io/parsers.py\u001b[0m in \u001b[0;36m_read\u001b[0;34m(filepath_or_buffer, kwds)\u001b[0m\n\u001b[1;32m    460\u001b[0m \u001b[0;34m\u001b[0m\u001b[0m\n\u001b[1;32m    461\u001b[0m     \u001b[0;31m# Create the parser.\u001b[0m\u001b[0;34m\u001b[0m\u001b[0;34m\u001b[0m\u001b[0;34m\u001b[0m\u001b[0m\n\u001b[0;32m--> 462\u001b[0;31m     \u001b[0mparser\u001b[0m \u001b[0;34m=\u001b[0m \u001b[0mTextFileReader\u001b[0m\u001b[0;34m(\u001b[0m\u001b[0mfilepath_or_buffer\u001b[0m\u001b[0;34m,\u001b[0m \u001b[0;34m**\u001b[0m\u001b[0mkwds\u001b[0m\u001b[0;34m)\u001b[0m\u001b[0;34m\u001b[0m\u001b[0;34m\u001b[0m\u001b[0m\n\u001b[0m\u001b[1;32m    463\u001b[0m \u001b[0;34m\u001b[0m\u001b[0m\n\u001b[1;32m    464\u001b[0m     \u001b[0;32mif\u001b[0m \u001b[0mchunksize\u001b[0m \u001b[0;32mor\u001b[0m \u001b[0miterator\u001b[0m\u001b[0;34m:\u001b[0m\u001b[0;34m\u001b[0m\u001b[0;34m\u001b[0m\u001b[0m\n",
      "\u001b[0;32m~/anaconda3/lib/python3.8/site-packages/pandas/io/parsers.py\u001b[0m in \u001b[0;36m__init__\u001b[0;34m(self, f, engine, **kwds)\u001b[0m\n\u001b[1;32m    817\u001b[0m             \u001b[0mself\u001b[0m\u001b[0;34m.\u001b[0m\u001b[0moptions\u001b[0m\u001b[0;34m[\u001b[0m\u001b[0;34m\"has_index_names\"\u001b[0m\u001b[0;34m]\u001b[0m \u001b[0;34m=\u001b[0m \u001b[0mkwds\u001b[0m\u001b[0;34m[\u001b[0m\u001b[0;34m\"has_index_names\"\u001b[0m\u001b[0;34m]\u001b[0m\u001b[0;34m\u001b[0m\u001b[0;34m\u001b[0m\u001b[0m\n\u001b[1;32m    818\u001b[0m \u001b[0;34m\u001b[0m\u001b[0m\n\u001b[0;32m--> 819\u001b[0;31m         \u001b[0mself\u001b[0m\u001b[0;34m.\u001b[0m\u001b[0m_engine\u001b[0m \u001b[0;34m=\u001b[0m \u001b[0mself\u001b[0m\u001b[0;34m.\u001b[0m\u001b[0m_make_engine\u001b[0m\u001b[0;34m(\u001b[0m\u001b[0mself\u001b[0m\u001b[0;34m.\u001b[0m\u001b[0mengine\u001b[0m\u001b[0;34m)\u001b[0m\u001b[0;34m\u001b[0m\u001b[0;34m\u001b[0m\u001b[0m\n\u001b[0m\u001b[1;32m    820\u001b[0m \u001b[0;34m\u001b[0m\u001b[0m\n\u001b[1;32m    821\u001b[0m     \u001b[0;32mdef\u001b[0m \u001b[0mclose\u001b[0m\u001b[0;34m(\u001b[0m\u001b[0mself\u001b[0m\u001b[0;34m)\u001b[0m\u001b[0;34m:\u001b[0m\u001b[0;34m\u001b[0m\u001b[0;34m\u001b[0m\u001b[0m\n",
      "\u001b[0;32m~/anaconda3/lib/python3.8/site-packages/pandas/io/parsers.py\u001b[0m in \u001b[0;36m_make_engine\u001b[0;34m(self, engine)\u001b[0m\n\u001b[1;32m   1048\u001b[0m             )\n\u001b[1;32m   1049\u001b[0m         \u001b[0;31m# error: Too many arguments for \"ParserBase\"\u001b[0m\u001b[0;34m\u001b[0m\u001b[0;34m\u001b[0m\u001b[0;34m\u001b[0m\u001b[0m\n\u001b[0;32m-> 1050\u001b[0;31m         \u001b[0;32mreturn\u001b[0m \u001b[0mmapping\u001b[0m\u001b[0;34m[\u001b[0m\u001b[0mengine\u001b[0m\u001b[0;34m]\u001b[0m\u001b[0;34m(\u001b[0m\u001b[0mself\u001b[0m\u001b[0;34m.\u001b[0m\u001b[0mf\u001b[0m\u001b[0;34m,\u001b[0m \u001b[0;34m**\u001b[0m\u001b[0mself\u001b[0m\u001b[0;34m.\u001b[0m\u001b[0moptions\u001b[0m\u001b[0;34m)\u001b[0m  \u001b[0;31m# type: ignore[call-arg]\u001b[0m\u001b[0;34m\u001b[0m\u001b[0;34m\u001b[0m\u001b[0m\n\u001b[0m\u001b[1;32m   1051\u001b[0m \u001b[0;34m\u001b[0m\u001b[0m\n\u001b[1;32m   1052\u001b[0m     \u001b[0;32mdef\u001b[0m \u001b[0m_failover_to_python\u001b[0m\u001b[0;34m(\u001b[0m\u001b[0mself\u001b[0m\u001b[0;34m)\u001b[0m\u001b[0;34m:\u001b[0m\u001b[0;34m\u001b[0m\u001b[0;34m\u001b[0m\u001b[0m\n",
      "\u001b[0;32m~/anaconda3/lib/python3.8/site-packages/pandas/io/parsers.py\u001b[0m in \u001b[0;36m__init__\u001b[0;34m(self, src, **kwds)\u001b[0m\n\u001b[1;32m   1865\u001b[0m \u001b[0;34m\u001b[0m\u001b[0m\n\u001b[1;32m   1866\u001b[0m         \u001b[0;31m# open handles\u001b[0m\u001b[0;34m\u001b[0m\u001b[0;34m\u001b[0m\u001b[0;34m\u001b[0m\u001b[0m\n\u001b[0;32m-> 1867\u001b[0;31m         \u001b[0mself\u001b[0m\u001b[0;34m.\u001b[0m\u001b[0m_open_handles\u001b[0m\u001b[0;34m(\u001b[0m\u001b[0msrc\u001b[0m\u001b[0;34m,\u001b[0m \u001b[0mkwds\u001b[0m\u001b[0;34m)\u001b[0m\u001b[0;34m\u001b[0m\u001b[0;34m\u001b[0m\u001b[0m\n\u001b[0m\u001b[1;32m   1868\u001b[0m         \u001b[0;32massert\u001b[0m \u001b[0mself\u001b[0m\u001b[0;34m.\u001b[0m\u001b[0mhandles\u001b[0m \u001b[0;32mis\u001b[0m \u001b[0;32mnot\u001b[0m \u001b[0;32mNone\u001b[0m\u001b[0;34m\u001b[0m\u001b[0;34m\u001b[0m\u001b[0m\n\u001b[1;32m   1869\u001b[0m         \u001b[0;32mfor\u001b[0m \u001b[0mkey\u001b[0m \u001b[0;32min\u001b[0m \u001b[0;34m(\u001b[0m\u001b[0;34m\"storage_options\"\u001b[0m\u001b[0;34m,\u001b[0m \u001b[0;34m\"encoding\"\u001b[0m\u001b[0;34m,\u001b[0m \u001b[0;34m\"memory_map\"\u001b[0m\u001b[0;34m,\u001b[0m \u001b[0;34m\"compression\"\u001b[0m\u001b[0;34m)\u001b[0m\u001b[0;34m:\u001b[0m\u001b[0;34m\u001b[0m\u001b[0;34m\u001b[0m\u001b[0m\n",
      "\u001b[0;32m~/anaconda3/lib/python3.8/site-packages/pandas/io/parsers.py\u001b[0m in \u001b[0;36m_open_handles\u001b[0;34m(self, src, kwds)\u001b[0m\n\u001b[1;32m   1360\u001b[0m         \u001b[0mLet\u001b[0m \u001b[0mthe\u001b[0m \u001b[0mreaders\u001b[0m \u001b[0mopen\u001b[0m \u001b[0mIOHanldes\u001b[0m \u001b[0mafter\u001b[0m \u001b[0mthey\u001b[0m \u001b[0mare\u001b[0m \u001b[0mdone\u001b[0m \u001b[0;32mwith\u001b[0m \u001b[0mtheir\u001b[0m \u001b[0mpotential\u001b[0m \u001b[0mraises\u001b[0m\u001b[0;34m.\u001b[0m\u001b[0;34m\u001b[0m\u001b[0;34m\u001b[0m\u001b[0m\n\u001b[1;32m   1361\u001b[0m         \"\"\"\n\u001b[0;32m-> 1362\u001b[0;31m         self.handles = get_handle(\n\u001b[0m\u001b[1;32m   1363\u001b[0m             \u001b[0msrc\u001b[0m\u001b[0;34m,\u001b[0m\u001b[0;34m\u001b[0m\u001b[0;34m\u001b[0m\u001b[0m\n\u001b[1;32m   1364\u001b[0m             \u001b[0;34m\"r\"\u001b[0m\u001b[0;34m,\u001b[0m\u001b[0;34m\u001b[0m\u001b[0;34m\u001b[0m\u001b[0m\n",
      "\u001b[0;32m~/anaconda3/lib/python3.8/site-packages/pandas/io/common.py\u001b[0m in \u001b[0;36mget_handle\u001b[0;34m(path_or_buf, mode, encoding, compression, memory_map, is_text, errors, storage_options)\u001b[0m\n\u001b[1;32m    640\u001b[0m                 \u001b[0merrors\u001b[0m \u001b[0;34m=\u001b[0m \u001b[0;34m\"replace\"\u001b[0m\u001b[0;34m\u001b[0m\u001b[0;34m\u001b[0m\u001b[0m\n\u001b[1;32m    641\u001b[0m             \u001b[0;31m# Encoding\u001b[0m\u001b[0;34m\u001b[0m\u001b[0;34m\u001b[0m\u001b[0;34m\u001b[0m\u001b[0m\n\u001b[0;32m--> 642\u001b[0;31m             handle = open(\n\u001b[0m\u001b[1;32m    643\u001b[0m                 \u001b[0mhandle\u001b[0m\u001b[0;34m,\u001b[0m\u001b[0;34m\u001b[0m\u001b[0;34m\u001b[0m\u001b[0m\n\u001b[1;32m    644\u001b[0m                 \u001b[0mioargs\u001b[0m\u001b[0;34m.\u001b[0m\u001b[0mmode\u001b[0m\u001b[0;34m,\u001b[0m\u001b[0;34m\u001b[0m\u001b[0;34m\u001b[0m\u001b[0m\n",
      "\u001b[0;31mFileNotFoundError\u001b[0m: [Errno 2] No such file or directory: '../data/string_bioplex_trial.csv'"
     ]
    }
   ],
   "source": [
    "locs = ['Rods & Rings', 'Aggresome', 'Microtubule ends', 'Cleavage furrow']\n",
    "\n",
    "df = pd.read_csv('../data/string_bioplex_trial.csv')"
   ]
  },
  {
   "cell_type": "code",
   "execution_count": 10,
   "metadata": {},
   "outputs": [],
   "source": [
    "def remove_locs(x, locs=locs):\n",
    "    x = to_set(x)\n",
    "    if x is None:\n",
    "        return None\n",
    "    for loc in locs:\n",
    "        try:\n",
    "            x.remove(loc)\n",
    "        except:\n",
    "            continue\n",
    "    return x"
   ]
  },
  {
   "cell_type": "code",
   "execution_count": 11,
   "metadata": {},
   "outputs": [],
   "source": [
    "df['location1'] = df['location1'].apply(lambda x: remove_locs(x))\n",
    "df['location2'] = df['location2'].apply(lambda x: remove_locs(x))\n",
    "df['locations'] = df['locations'].apply(lambda x: remove_locs(x))"
   ]
  },
  {
   "cell_type": "code",
   "execution_count": 12,
   "metadata": {},
   "outputs": [
    {
     "data": {
      "text/html": [
       "<div>\n",
       "<style scoped>\n",
       "    .dataframe tbody tr th:only-of-type {\n",
       "        vertical-align: middle;\n",
       "    }\n",
       "\n",
       "    .dataframe tbody tr th {\n",
       "        vertical-align: top;\n",
       "    }\n",
       "\n",
       "    .dataframe thead th {\n",
       "        text-align: right;\n",
       "    }\n",
       "</style>\n",
       "<table border=\"1\" class=\"dataframe\">\n",
       "  <thead>\n",
       "    <tr style=\"text-align: right;\">\n",
       "      <th></th>\n",
       "      <th>protein1</th>\n",
       "      <th>gene1</th>\n",
       "      <th>reliability1</th>\n",
       "      <th>location1</th>\n",
       "      <th>protein2</th>\n",
       "      <th>gene2</th>\n",
       "      <th>reliability2</th>\n",
       "      <th>location2</th>\n",
       "      <th>combined_score</th>\n",
       "      <th>locations</th>\n",
       "      <th>source</th>\n",
       "    </tr>\n",
       "  </thead>\n",
       "  <tbody>\n",
       "    <tr>\n",
       "      <th>0</th>\n",
       "      <td>ENSP00000377086</td>\n",
       "      <td>ENSG00000170500</td>\n",
       "      <td>Supported</td>\n",
       "      <td>{Nucleoplasm}</td>\n",
       "      <td>ENSP00000476117</td>\n",
       "      <td>ENSG00000065268</td>\n",
       "      <td>Supported</td>\n",
       "      <td>{Nucleoplasm}</td>\n",
       "      <td>0.291291</td>\n",
       "      <td>{Nucleoplasm}</td>\n",
       "      <td>string</td>\n",
       "    </tr>\n",
       "  </tbody>\n",
       "</table>\n",
       "</div>"
      ],
      "text/plain": [
       "          protein1            gene1 reliability1      location1  \\\n",
       "0  ENSP00000377086  ENSG00000170500    Supported  {Nucleoplasm}   \n",
       "\n",
       "          protein2            gene2 reliability2      location2  \\\n",
       "0  ENSP00000476117  ENSG00000065268    Supported  {Nucleoplasm}   \n",
       "\n",
       "   combined_score      locations  source  \n",
       "0        0.291291  {Nucleoplasm}  string  "
      ]
     },
     "execution_count": 12,
     "metadata": {},
     "output_type": "execute_result"
    }
   ],
   "source": [
    "df.head(1)"
   ]
  },
  {
   "cell_type": "code",
   "execution_count": 13,
   "metadata": {
    "tags": []
   },
   "outputs": [
    {
     "name": "stderr",
     "output_type": "stream",
     "text": [
      "0%|          | 994/766080 [00:00<01:17, 9935.67it/s](766080, 11)\n",
      "100%|██████████| 766080/766080 [00:51<00:00, 14794.75it/s]\n"
     ]
    },
    {
     "data": {
      "text/plain": [
       "(761429, 11)"
      ]
     },
     "execution_count": 13,
     "metadata": {},
     "output_type": "execute_result"
    }
   ],
   "source": [
    "from tqdm import tqdm\n",
    "locations = set()\n",
    "drop_l = list()\n",
    "\n",
    "print(df.shape)\n",
    "\n",
    "for i in tqdm(df.index):\n",
    "    \n",
    "    p1, p2 = df['protein1'][i], df['protein2'][i]\n",
    "    try: \n",
    "        b = \"ENSP\" not in p1 or \"ENSP\" not in p2\n",
    "    except:\n",
    "        drop_l.append(i) \n",
    "\n",
    "    l = list(df['locations'][i])\n",
    "    \n",
    "    for loc in l:\n",
    "        locations.add(loc)\n",
    "\n",
    "df = df.drop(drop_l)\n",
    "df.shape"
   ]
  },
  {
   "cell_type": "code",
   "execution_count": 14,
   "metadata": {
    "tags": []
   },
   "outputs": [
    {
     "name": "stdout",
     "output_type": "stream",
     "text": [
      "Lipid droplets\n",
      "Cell Junctions\n",
      "Nuclear speckles\n",
      "Midbody ring\n",
      "Mitotic spindle\n",
      "Mitochondria\n",
      "Intermediate filaments\n",
      "Midbody\n",
      "Nuclear membrane\n",
      "Actin filaments\n",
      "Vesicles\n",
      "Lysosomes\n",
      "Nuclear bodies\n",
      "Cytokinetic bridge\n",
      "Plasma membrane\n",
      "Centrosome\n",
      "Endosomes\n",
      "Focal adhesion sites\n",
      "Centriolar satellite\n",
      "Peroxisomes\n",
      "Nucleoli fibrillar center\n",
      "Cytoplasmic bodies\n",
      "Golgi apparatus\n",
      "Endoplasmic reticulum\n",
      "Microtubules\n",
      "Cytosol\n",
      "Nucleoli\n",
      "Nucleoplasm\n"
     ]
    }
   ],
   "source": [
    "for loc in locations:\n",
    "    print(loc)"
   ]
  },
  {
   "cell_type": "code",
   "execution_count": 15,
   "metadata": {},
   "outputs": [
    {
     "data": {
      "text/plain": [
       "28"
      ]
     },
     "execution_count": 15,
     "metadata": {},
     "output_type": "execute_result"
    }
   ],
   "source": [
    "len(locations)"
   ]
  },
  {
   "cell_type": "code",
   "execution_count": 16,
   "metadata": {},
   "outputs": [],
   "source": [
    "df.to_csv('../data/string_bioplex_test.csv', index=None)"
   ]
  },
  {
   "cell_type": "code",
   "execution_count": null,
   "metadata": {},
   "outputs": [],
   "source": []
  }
 ],
 "metadata": {
  "interpreter": {
   "hash": "e404f875347d1450da9abd28188e88842944c60db68452b8d1de83b17fd71d9a"
  },
  "kernelspec": {
   "display_name": "Python 3.8.8 64-bit ('base': conda)",
   "name": "python3"
  },
  "language_info": {
   "codemirror_mode": {
    "name": "ipython",
    "version": 3
   },
   "file_extension": ".py",
   "mimetype": "text/x-python",
   "name": "python",
   "nbconvert_exporter": "python",
   "pygments_lexer": "ipython3",
   "version": "3.8.8"
  },
  "orig_nbformat": 2
 },
 "nbformat": 4,
 "nbformat_minor": 2
}
