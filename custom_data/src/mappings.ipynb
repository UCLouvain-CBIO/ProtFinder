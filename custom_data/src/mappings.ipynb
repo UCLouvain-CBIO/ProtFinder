{
 "cells": [
  {
   "cell_type": "code",
   "execution_count": 1,
   "metadata": {},
   "outputs": [],
   "source": [
    "import mygene\n",
    "import pandas as pd\n",
    "import pickle"
   ]
  },
  {
   "cell_type": "code",
   "execution_count": 2,
   "metadata": {},
   "outputs": [],
   "source": [
    "mg = mygene.MyGeneInfo() # create a mygene's information object"
   ]
  },
  {
   "cell_type": "code",
   "execution_count": 3,
   "metadata": {
    "tags": [
     "outputPrepend"
    ]
   },
   "outputs": [],
   "source": [
    "df = pd.read_csv('../data/string_clean.csv') # load STRING data\n",
    "\n",
    "# get list of protein ids\n",
    "p1_ids = df['protein1'].to_list() \n",
    "p2_ids = df['protein2'].to_list()\n",
    "\n",
    "# create a set of all protein ids\n",
    "all_p = set(p1_ids + p2_ids)\n",
    "\n",
    "#function to write a protein in each line of a file\n",
    "def append_multiple_lines(file_name, lines_to_append):\n",
    "\n",
    "# Open the file in append & read mode ('a+')\n",
    "    with open(file_name, \"a+\") as file_object:\n",
    "        appendEOL = False\n",
    "        # Move read cursor to the start of file.\n",
    "        file_object.seek(0)\n",
    "        # Check if file is not empty\n",
    "        data = file_object.read(100)\n",
    "        if len(data) > 0:\n",
    "            appendEOL = True    \n",
    "        # Iterate over each string in the list\n",
    "        for line in lines_to_append:\n",
    "            # If file is not empty then append '\\n' before first line for\n",
    "            # other lines always append '\\n' before appending line\n",
    "            if appendEOL == True:\n",
    "                file_object.write(\"\\n\")\n",
    "            else:\n",
    "                appendEOL = True\n",
    "            # Append element at the end of file\n",
    "            file_object.write(line)\n",
    "            \n",
    "append_multiple_lines('../data/prots.txt', all_p) \n",
    "#prots.txt contains all unique protein ids in the STRING db"
   ]
  },
  {
   "cell_type": "code",
   "execution_count": 4,
   "metadata": {},
   "outputs": [
    {
     "output_type": "stream",
     "name": "stdout",
     "text": "querying 1-1000...done.\nquerying 1001-2000...done.\nquerying 2001-3000...done.\nquerying 3001-4000...done.\nquerying 4001-5000...done.\nquerying 5001-6000...done.\nquerying 6001-7000...done.\nquerying 7001-8000...done.\nquerying 8001-9000...done.\nquerying 9001-10000...done.\nquerying 10001-11000...done.\nquerying 11001-12000...done.\nquerying 12001-13000...done.\nquerying 13001-14000...done.\nquerying 14001-15000...done.\nquerying 15001-16000...done.\nquerying 16001-17000...done.\nquerying 17001-18000...done.\nquerying 18001-19000...done.\nquerying 19001-19354...done.\nFinished.\n19354 input query terms found no hit:\n\t['ENSP00000349494', 'ENSP00000358510', 'ENSP00000478212', 'ENSP00000295454', 'ENSP00000371715', 'ENS\nPass \"returnall=True\" to return complete lists of duplicate or missing query terms.\n"
    },
    {
     "output_type": "execute_result",
     "data": {
      "text/plain": "                 notfound\nquery                    \nENSP00000349494      True\nENSP00000358510      True\nENSP00000478212      True\nENSP00000295454      True\nENSP00000371715      True\n...                   ...\nENSP00000346103      True\nENSP00000355387      True\nENSP00000299642      True\nENSP00000268459      True\nENSP00000385096      True\n\n[19354 rows x 1 columns]",
      "text/html": "<div>\n<style scoped>\n    .dataframe tbody tr th:only-of-type {\n        vertical-align: middle;\n    }\n\n    .dataframe tbody tr th {\n        vertical-align: top;\n    }\n\n    .dataframe thead th {\n        text-align: right;\n    }\n</style>\n<table border=\"1\" class=\"dataframe\">\n  <thead>\n    <tr style=\"text-align: right;\">\n      <th></th>\n      <th>notfound</th>\n    </tr>\n    <tr>\n      <th>query</th>\n      <th></th>\n    </tr>\n  </thead>\n  <tbody>\n    <tr>\n      <th>ENSP00000349494</th>\n      <td>True</td>\n    </tr>\n    <tr>\n      <th>ENSP00000358510</th>\n      <td>True</td>\n    </tr>\n    <tr>\n      <th>ENSP00000478212</th>\n      <td>True</td>\n    </tr>\n    <tr>\n      <th>ENSP00000295454</th>\n      <td>True</td>\n    </tr>\n    <tr>\n      <th>ENSP00000371715</th>\n      <td>True</td>\n    </tr>\n    <tr>\n      <th>...</th>\n      <td>...</td>\n    </tr>\n    <tr>\n      <th>ENSP00000346103</th>\n      <td>True</td>\n    </tr>\n    <tr>\n      <th>ENSP00000355387</th>\n      <td>True</td>\n    </tr>\n    <tr>\n      <th>ENSP00000299642</th>\n      <td>True</td>\n    </tr>\n    <tr>\n      <th>ENSP00000268459</th>\n      <td>True</td>\n    </tr>\n    <tr>\n      <th>ENSP00000385096</th>\n      <td>True</td>\n    </tr>\n  </tbody>\n</table>\n<p>19354 rows × 1 columns</p>\n</div>"
     },
     "metadata": {},
     "execution_count": 4
    }
   ],
   "source": [
    "gene = mg.querymany(list(all_p), fields=['ensembl.gene'], species='human', as_dataframe=True) #get gene ids for all proteins using mygene\n",
    "gene"
   ]
  },
  {
   "cell_type": "code",
   "execution_count": 5,
   "metadata": {},
   "outputs": [],
   "source": [
    "# None of the proteins got mapped to a gene"
   ]
  },
  {
   "cell_type": "code",
   "execution_count": 6,
   "metadata": {
    "tags": [
     "outputPrepend"
    ]
   },
   "outputs": [
    {
     "output_type": "stream",
     "name": "stdout",
     "text": "18872\n"
    }
   ],
   "source": [
    "# Before moving ahead, pass the prots.txt on Biomart (https://m.ensembl.org/biomart/martview/f966012c5fbad15c4daee56d1cc6e42e) to get a protein_id, gene_id mapping. This is stored in mart.csv\n",
    "\n",
    "df = pd.read_csv('../data/mart.csv')\n",
    "d = dict()\n",
    "for i in df.index:\n",
    "    d[df['Protein stable ID'][i]] = df['Gene stable ID'][i] # creating a dictionary that maps a protein id to gene id\n",
    "print(len(d))"
   ]
  },
  {
   "cell_type": "code",
   "execution_count": 7,
   "metadata": {},
   "outputs": [],
   "source": [
    "# Store this mapping in a pickle file for future use\n",
    "with open('../data/prot2gene.pickle', 'wb') as handle:\n",
    "    pickle.dump(d, handle)"
   ]
  },
  {
   "cell_type": "code",
   "execution_count": null,
   "metadata": {},
   "outputs": [],
   "source": []
  }
 ],
 "metadata": {
  "language_info": {
   "codemirror_mode": {
    "name": "ipython",
    "version": 3
   },
   "file_extension": ".py",
   "mimetype": "text/x-python",
   "name": "python",
   "nbconvert_exporter": "python",
   "pygments_lexer": "ipython3",
   "version": "3.7.6-final"
  },
  "orig_nbformat": 2,
  "kernelspec": {
   "name": "python3",
   "display_name": "Python 3"
  }
 },
 "nbformat": 4,
 "nbformat_minor": 2
}