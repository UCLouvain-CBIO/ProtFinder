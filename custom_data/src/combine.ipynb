{
 "cells": [
  {
   "cell_type": "code",
   "execution_count": 1,
   "metadata": {},
   "outputs": [],
   "source": [
    "import pandas as pd\n",
    "import pickle"
   ]
  },
  {
   "cell_type": "code",
   "execution_count": 2,
   "metadata": {},
   "outputs": [],
   "source": [
    "hpa = pd.read_csv('../data/hpa.csv')                # Load the processed Human Protein Atlas data\n",
    "string = pd.read_csv('../data/string_clean.csv')    # Load the processed STRING data\n",
    "with open('../data/prot2gene.pickle', 'rb') as f:   # Load the protein to gene mapping\n",
    "    prot2gene = pickle.load(f)"
   ]
  },
  {
   "cell_type": "code",
   "execution_count": 3,
   "metadata": {},
   "outputs": [],
   "source": [
    "# stores a mapping from gene to a list of its subcellular locations, along with their reliability\n",
    "gene2loc = dict()   \n",
    "\n",
    "for i in hpa.index:\n",
    "    gene = hpa['Gene'][i]\n",
    "    reliability = hpa['Reliability'][i]\n",
    "    loc = hpa['Locations'][i]\n",
    "    gene2loc[gene] = (loc, reliability)"
   ]
  },
  {
   "cell_type": "code",
   "execution_count": 4,
   "metadata": {},
   "outputs": [],
   "source": [
    "# Converts a string of template '{location1, location2}' to a set of locations.\n",
    "def get_set(x):                 \n",
    "    x = x[1:-1]\n",
    "    return set(x.split(','))\n",
    "\n",
    "# list to store locations to be added to the STRING data\n",
    "locs = list()\n",
    "\n",
    "# lists to store gene ids to be added to the STRING data\n",
    "gene1 = list()                  \n",
    "gene2 = list()\n",
    "\n",
    "# lists to store reliability of locations to be added to the STRING data\n",
    "reliability1 = list()\n",
    "reliability2 = list()\n",
    "\n",
    "# lists to store locations to be added to the STRING data\n",
    "loc1 = list()\n",
    "loc2 = list()\n",
    "\n",
    "for i in string.index:\n",
    "\n",
    "    # Get protein ids\n",
    "    p1 = string['protein1'][i]           \n",
    "    p2 = string['protein2'][i]      \n",
    "\n",
    "    # Get gene from protein and (location, reliability) from gene    \n",
    "    try:\n",
    "        g1 = prot2gene[p1]\n",
    "        l1, r1 = gene2loc[g1]    \n",
    "        l1 = get_set(l1)\n",
    "    except:\n",
    "        g1 = None\n",
    "        l1 = None\n",
    "        r1 = None\n",
    "    try:\n",
    "        g2 = prot2gene[p2]\n",
    "        l2, r2 = gene2loc[g2]\n",
    "        l2 = get_set(l2)\n",
    "    except:\n",
    "        g2 = None\n",
    "        l2 = None\n",
    "        r2 = None\n",
    "\n",
    "    # Add Gene ids that need to be added to STRING data\n",
    "    gene1.append(g1)\n",
    "    gene2.append(g2)\n",
    "\n",
    "    # Add reliability of locations that need to be added to STRING data\n",
    "    reliability1.append(r1)\n",
    "    reliability2.append(r2)\n",
    "\n",
    "    # Add Locations that need to be added to STRING data\n",
    "    loc1.append(l1)\n",
    "    loc2.append(l2)\n",
    "\n",
    "    # If both proteins match with gene in HPA add intersection of their locations.\n",
    "    # If exactly one of the protein matches, use its location to annotate the other protein.\n",
    "    # Otherwise add an empty set.\n",
    "    if (l1 != None) and (l2 != None):\n",
    "        locs.append(frozenset(l1.intersection(l2)))     \n",
    "    elif l1 != None:\n",
    "        locs.append(frozenset(l1))                      \n",
    "    elif l2 != None:\n",
    "        locs.append(frozenset(l2))\n",
    "    else:                                               \n",
    "        locs.append(frozenset({}))"
   ]
  },
  {
   "cell_type": "code",
   "execution_count": 5,
   "metadata": {},
   "outputs": [
    {
     "output_type": "stream",
     "name": "stdout",
     "text": "2752910\n"
    }
   ],
   "source": [
    "# Add the above computed lists to the STRING dataframe\n",
    "string['locations'] = locs\n",
    "string['gene1'] = gene1\n",
    "string['gene2'] = gene2\n",
    "string['reliability1'] = reliability1\n",
    "string['reliability2'] = reliability2\n",
    "string['location1'] = loc1\n",
    "string['location2'] = loc2\n",
    "\n",
    "# Drop the rows that have empty locations\n",
    "drop_i = list()\n",
    "for i in string.index:\n",
    "    if len(string['locations'][i]) == 0:\n",
    "        drop_i.append(i)\n",
    "print(len(drop_i))\n"
   ]
  },
  {
   "cell_type": "code",
   "execution_count": 6,
   "metadata": {},
   "outputs": [],
   "source": [
    "string = string.drop(drop_i)\n",
    "string.to_csv('../data/string_locs.csv', index=None)"
   ]
  },
  {
   "cell_type": "code",
   "execution_count": 1,
   "metadata": {
    "tags": [
     "outputPrepend",
     "outputPrepend",
     "outputPrepend",
     "outputPrepend",
     "outputPrepend",
     "outputPrepend",
     "outputPrepend",
     "outputPrepend"
    ]
   },
   "outputs": [
    {
     "output_type": "execute_result",
     "data": {
      "text/plain": "          protein1         protein2  neighborhood  fusion  cooccurence  \\\n0  ENSP00000000233  ENSP00000253401             0       0            0   \n1  ENSP00000000233  ENSP00000418915             0       0            0   \n2  ENSP00000000233  ENSP00000327801             0       0            0   \n3  ENSP00000000233  ENSP00000466298             0       0            0   \n4  ENSP00000000233  ENSP00000232564             0       0            0   \n\n   coexpression  experimental  database  textmining  combined_score  \\\n0             0           186         0          56             198   \n1            61           158         0         542             606   \n2            88            78         0          89             167   \n3           141           131         0          98             267   \n4            62           171         0          56             201   \n\n                 locations gene1            gene2 reliability1 reliability2  \\\n0                [Cytosol]   NaN  ENSG00000131089          NaN    Supported   \n1               [Nucleoli]   NaN  ENSG00000147889          NaN    Supported   \n2  [Endoplasmic reticulum]   NaN  ENSG00000185624          NaN    Supported   \n3        [Golgi apparatus]   NaN  ENSG00000104915          NaN     Approved   \n4        [Plasma membrane]   NaN  ENSG00000114450          NaN    Supported   \n\n  location1                location2  \n0      None                [Cytosol]  \n1      None               [Nucleoli]  \n2      None  [Endoplasmic reticulum]  \n3      None        [Golgi apparatus]  \n4      None        [Plasma membrane]  ",
      "text/html": "<div>\n<style scoped>\n    .dataframe tbody tr th:only-of-type {\n        vertical-align: middle;\n    }\n\n    .dataframe tbody tr th {\n        vertical-align: top;\n    }\n\n    .dataframe thead th {\n        text-align: right;\n    }\n</style>\n<table border=\"1\" class=\"dataframe\">\n  <thead>\n    <tr style=\"text-align: right;\">\n      <th></th>\n      <th>protein1</th>\n      <th>protein2</th>\n      <th>neighborhood</th>\n      <th>fusion</th>\n      <th>cooccurence</th>\n      <th>coexpression</th>\n      <th>experimental</th>\n      <th>database</th>\n      <th>textmining</th>\n      <th>combined_score</th>\n      <th>locations</th>\n      <th>gene1</th>\n      <th>gene2</th>\n      <th>reliability1</th>\n      <th>reliability2</th>\n      <th>location1</th>\n      <th>location2</th>\n    </tr>\n  </thead>\n  <tbody>\n    <tr>\n      <th>0</th>\n      <td>ENSP00000000233</td>\n      <td>ENSP00000253401</td>\n      <td>0</td>\n      <td>0</td>\n      <td>0</td>\n      <td>0</td>\n      <td>186</td>\n      <td>0</td>\n      <td>56</td>\n      <td>198</td>\n      <td>[Cytosol]</td>\n      <td>NaN</td>\n      <td>ENSG00000131089</td>\n      <td>NaN</td>\n      <td>Supported</td>\n      <td>None</td>\n      <td>[Cytosol]</td>\n    </tr>\n    <tr>\n      <th>1</th>\n      <td>ENSP00000000233</td>\n      <td>ENSP00000418915</td>\n      <td>0</td>\n      <td>0</td>\n      <td>0</td>\n      <td>61</td>\n      <td>158</td>\n      <td>0</td>\n      <td>542</td>\n      <td>606</td>\n      <td>[Nucleoli]</td>\n      <td>NaN</td>\n      <td>ENSG00000147889</td>\n      <td>NaN</td>\n      <td>Supported</td>\n      <td>None</td>\n      <td>[Nucleoli]</td>\n    </tr>\n    <tr>\n      <th>2</th>\n      <td>ENSP00000000233</td>\n      <td>ENSP00000327801</td>\n      <td>0</td>\n      <td>0</td>\n      <td>0</td>\n      <td>88</td>\n      <td>78</td>\n      <td>0</td>\n      <td>89</td>\n      <td>167</td>\n      <td>[Endoplasmic reticulum]</td>\n      <td>NaN</td>\n      <td>ENSG00000185624</td>\n      <td>NaN</td>\n      <td>Supported</td>\n      <td>None</td>\n      <td>[Endoplasmic reticulum]</td>\n    </tr>\n    <tr>\n      <th>3</th>\n      <td>ENSP00000000233</td>\n      <td>ENSP00000466298</td>\n      <td>0</td>\n      <td>0</td>\n      <td>0</td>\n      <td>141</td>\n      <td>131</td>\n      <td>0</td>\n      <td>98</td>\n      <td>267</td>\n      <td>[Golgi apparatus]</td>\n      <td>NaN</td>\n      <td>ENSG00000104915</td>\n      <td>NaN</td>\n      <td>Approved</td>\n      <td>None</td>\n      <td>[Golgi apparatus]</td>\n    </tr>\n    <tr>\n      <th>4</th>\n      <td>ENSP00000000233</td>\n      <td>ENSP00000232564</td>\n      <td>0</td>\n      <td>0</td>\n      <td>0</td>\n      <td>62</td>\n      <td>171</td>\n      <td>0</td>\n      <td>56</td>\n      <td>201</td>\n      <td>[Plasma membrane]</td>\n      <td>NaN</td>\n      <td>ENSG00000114450</td>\n      <td>NaN</td>\n      <td>Supported</td>\n      <td>None</td>\n      <td>[Plasma membrane]</td>\n    </tr>\n  </tbody>\n</table>\n</div>"
     },
     "metadata": {},
     "execution_count": 1
    }
   ],
   "source": [
    "import pandas as pd\n",
    "\n",
    "#formatting the location column in STRING data\n",
    "def f1(l):\n",
    "    l = l.split('{')[-1]\n",
    "    l = l.split('}')[0]\n",
    "    l = l.split(',')\n",
    "    l = [x[2:-2].strip() for x in l]\n",
    "    l1 = list()\n",
    "    l1.append(l[0])\n",
    "    for i in l[1:]:\n",
    "        l1.append(i[1:])\n",
    "    return l1\n",
    "\n",
    "def f2(l):\n",
    "    try:\n",
    "        l = l[1:-1]\n",
    "        l = l.replace('\"','')\n",
    "        l = l.replace(\"'\", \"\")\n",
    "        return l.split(',')\n",
    "    except:\n",
    "        return None\n",
    "\n",
    "string = pd.read_csv('../data/string_locs.csv')\n",
    "string['locations'] = string['locations'].apply(lambda x: f1(x))\n",
    "string['location1'] = string['location1'].apply(lambda x: f2(x))\n",
    "string['location2'] = string['location2'].apply(lambda x: f2(x))\n",
    "string.head()"
   ]
  },
  {
   "cell_type": "code",
   "execution_count": 2,
   "metadata": {},
   "outputs": [],
   "source": [
    "# Rearrange the columns \n",
    "cols = string.columns.values.tolist()\n",
    "p1_cols = [cols[0]] + ['gene1', 'reliability1', 'location1']\n",
    "p2_cols = [cols[1]] + ['gene2', 'reliability2', 'location2']\n",
    "rem_cols = cols[2:-6]\n",
    "new_cols = p1_cols + p2_cols + rem_cols\n",
    "\n",
    "string = string.reindex(columns=new_cols) \n",
    "string.to_csv('../data/string_locs2.csv', index=None)"
   ]
  },
  {
   "cell_type": "code",
   "execution_count": 3,
   "metadata": {},
   "outputs": [],
   "source": [
    "import pandas as pd\n",
    "\n",
    "string = pd.read_csv('../data/string_locs2.csv')\n"
   ]
  },
  {
   "cell_type": "code",
   "execution_count": 4,
   "metadata": {},
   "outputs": [],
   "source": [
    "def f(l):\n",
    "    try:\n",
    "        l = l.replace('\"','')\n",
    "        return l.replace(\"'\", \"\")\n",
    "    except:\n",
    "        return None\n",
    "string['locations'] = string['locations'].apply(lambda x: f(x))\n",
    "string['location1'] = string['location1'].apply(lambda x: f(x))\n",
    "string['location2'] = string['location2'].apply(lambda x: f(x))\n",
    "string.to_csv('../data/string_locs2.csv', index=None)"
   ]
  },
  {
   "cell_type": "code",
   "execution_count": 5,
   "metadata": {},
   "outputs": [
    {
     "output_type": "execute_result",
     "data": {
      "text/plain": "(3126817, 17)"
     },
     "metadata": {},
     "execution_count": 5
    }
   ],
   "source": [
    "string.shape"
   ]
  },
  {
   "cell_type": "code",
   "execution_count": null,
   "metadata": {},
   "outputs": [],
   "source": []
  }
 ],
 "metadata": {
  "language_info": {
   "codemirror_mode": {
    "name": "ipython",
    "version": 3
   },
   "file_extension": ".py",
   "mimetype": "text/x-python",
   "name": "python",
   "nbconvert_exporter": "python",
   "pygments_lexer": "ipython3",
   "version": "3.7.6-final"
  },
  "orig_nbformat": 2,
  "kernelspec": {
   "name": "python3",
   "display_name": "Python 3"
  }
 },
 "nbformat": 4,
 "nbformat_minor": 2
}