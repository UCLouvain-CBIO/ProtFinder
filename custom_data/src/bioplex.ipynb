{
 "cells": [
  {
   "cell_type": "code",
   "execution_count": 1,
   "metadata": {},
   "outputs": [
    {
     "output_type": "execute_result",
     "data": {
      "text/plain": "'\\nThis file preprocesses the BioPlex data and returns a file in the format that is compatible with our preprocessed STRING DB file.\\n'"
     },
     "metadata": {},
     "execution_count": 1
    }
   ],
   "source": [
    "'''\n",
    "This file preprocesses the BioPlex data and returns a file in the format that is compatible with our preprocessed STRING DB file.\n",
    "'''"
   ]
  },
  {
   "cell_type": "code",
   "execution_count": 2,
   "metadata": {},
   "outputs": [],
   "source": [
    "import pandas as pd \n",
    "from tqdm import tqdm"
   ]
  },
  {
   "cell_type": "code",
   "execution_count": 3,
   "metadata": {
    "tags": []
   },
   "outputs": [
    {
     "output_type": "stream",
     "name": "stdout",
     "text": "(118162, 9)\n"
    },
    {
     "output_type": "execute_result",
     "data": {
      "text/plain": "    GeneA   GeneB  UniprotA  UniprotB SymbolA SymbolB            pW       pNI  \\\n0     100  728378    P00813    A5A3E0     ADA   POTEF  6.881844e-10  0.000118   \n1  222389    6137  Q8N7W2-2    P26373   BEND7   RPL13  1.340380e-18  0.225664   \n2  222389    5928  Q8N7W2-2  Q09028-3   BEND7   RBBP4  7.221401e-21  0.000064   \n3  222389   25873  Q8N7W2-2    Q9Y3U8   BEND7   RPL36  7.058372e-17  0.128183   \n4  222389    6124  Q8N7W2-2    P36578   BEND7    RPL4  1.632313e-22  0.200638   \n\n       pInt  \n0  0.999882  \n1  0.774336  \n2  0.999936  \n3  0.871817  \n4  0.799362  ",
      "text/html": "<div>\n<style scoped>\n    .dataframe tbody tr th:only-of-type {\n        vertical-align: middle;\n    }\n\n    .dataframe tbody tr th {\n        vertical-align: top;\n    }\n\n    .dataframe thead th {\n        text-align: right;\n    }\n</style>\n<table border=\"1\" class=\"dataframe\">\n  <thead>\n    <tr style=\"text-align: right;\">\n      <th></th>\n      <th>GeneA</th>\n      <th>GeneB</th>\n      <th>UniprotA</th>\n      <th>UniprotB</th>\n      <th>SymbolA</th>\n      <th>SymbolB</th>\n      <th>pW</th>\n      <th>pNI</th>\n      <th>pInt</th>\n    </tr>\n  </thead>\n  <tbody>\n    <tr>\n      <th>0</th>\n      <td>100</td>\n      <td>728378</td>\n      <td>P00813</td>\n      <td>A5A3E0</td>\n      <td>ADA</td>\n      <td>POTEF</td>\n      <td>6.881844e-10</td>\n      <td>0.000118</td>\n      <td>0.999882</td>\n    </tr>\n    <tr>\n      <th>1</th>\n      <td>222389</td>\n      <td>6137</td>\n      <td>Q8N7W2-2</td>\n      <td>P26373</td>\n      <td>BEND7</td>\n      <td>RPL13</td>\n      <td>1.340380e-18</td>\n      <td>0.225664</td>\n      <td>0.774336</td>\n    </tr>\n    <tr>\n      <th>2</th>\n      <td>222389</td>\n      <td>5928</td>\n      <td>Q8N7W2-2</td>\n      <td>Q09028-3</td>\n      <td>BEND7</td>\n      <td>RBBP4</td>\n      <td>7.221401e-21</td>\n      <td>0.000064</td>\n      <td>0.999936</td>\n    </tr>\n    <tr>\n      <th>3</th>\n      <td>222389</td>\n      <td>25873</td>\n      <td>Q8N7W2-2</td>\n      <td>Q9Y3U8</td>\n      <td>BEND7</td>\n      <td>RPL36</td>\n      <td>7.058372e-17</td>\n      <td>0.128183</td>\n      <td>0.871817</td>\n    </tr>\n    <tr>\n      <th>4</th>\n      <td>222389</td>\n      <td>6124</td>\n      <td>Q8N7W2-2</td>\n      <td>P36578</td>\n      <td>BEND7</td>\n      <td>RPL4</td>\n      <td>1.632313e-22</td>\n      <td>0.200638</td>\n      <td>0.799362</td>\n    </tr>\n  </tbody>\n</table>\n</div>"
     },
     "metadata": {},
     "execution_count": 3
    }
   ],
   "source": [
    "bioplex = pd.read_csv('../data/BioPlex3.tsv', sep='\\t')    # Load BioPlex data\n",
    "print(bioplex.shape)\n",
    "bioplex.head()"
   ]
  },
  {
   "cell_type": "code",
   "execution_count": 4,
   "metadata": {
    "tags": []
   },
   "outputs": [
    {
     "output_type": "stream",
     "name": "stdout",
     "text": "(11723, 4)\n"
    },
    {
     "output_type": "execute_result",
     "data": {
      "text/plain": "  Gene name             Gene Reliability  \\\n0    TSPAN6  ENSG00000000003    Approved   \n1  C1orf112  ENSG00000000460    Approved   \n2       FGR  ENSG00000000938    Approved   \n3       CFH  ENSG00000000971    Approved   \n4      GCLC  ENSG00000001084    Approved   \n\n                                           Locations  \n0  {'Nucleoli fibrillar center', 'Cytosol', 'Cell...  \n1                                   {'Mitochondria'}  \n2                   {'Aggresome', 'Plasma membrane'}  \n3                                       {'Vesicles'}  \n4             {'Cytosol', 'Nucleoplasm', 'Nucleoli'}  ",
      "text/html": "<div>\n<style scoped>\n    .dataframe tbody tr th:only-of-type {\n        vertical-align: middle;\n    }\n\n    .dataframe tbody tr th {\n        vertical-align: top;\n    }\n\n    .dataframe thead th {\n        text-align: right;\n    }\n</style>\n<table border=\"1\" class=\"dataframe\">\n  <thead>\n    <tr style=\"text-align: right;\">\n      <th></th>\n      <th>Gene name</th>\n      <th>Gene</th>\n      <th>Reliability</th>\n      <th>Locations</th>\n    </tr>\n  </thead>\n  <tbody>\n    <tr>\n      <th>0</th>\n      <td>TSPAN6</td>\n      <td>ENSG00000000003</td>\n      <td>Approved</td>\n      <td>{'Nucleoli fibrillar center', 'Cytosol', 'Cell...</td>\n    </tr>\n    <tr>\n      <th>1</th>\n      <td>C1orf112</td>\n      <td>ENSG00000000460</td>\n      <td>Approved</td>\n      <td>{'Mitochondria'}</td>\n    </tr>\n    <tr>\n      <th>2</th>\n      <td>FGR</td>\n      <td>ENSG00000000938</td>\n      <td>Approved</td>\n      <td>{'Aggresome', 'Plasma membrane'}</td>\n    </tr>\n    <tr>\n      <th>3</th>\n      <td>CFH</td>\n      <td>ENSG00000000971</td>\n      <td>Approved</td>\n      <td>{'Vesicles'}</td>\n    </tr>\n    <tr>\n      <th>4</th>\n      <td>GCLC</td>\n      <td>ENSG00000001084</td>\n      <td>Approved</td>\n      <td>{'Cytosol', 'Nucleoplasm', 'Nucleoli'}</td>\n    </tr>\n  </tbody>\n</table>\n</div>"
     },
     "metadata": {},
     "execution_count": 4
    }
   ],
   "source": [
    "hpa = pd.read_csv('../data/hpa.csv')    # Load HPA data\n",
    "print(hpa.shape)\n",
    "hpa.head()"
   ]
  },
  {
   "cell_type": "code",
   "execution_count": 5,
   "metadata": {
    "tags": []
   },
   "outputs": [
    {
     "output_type": "stream",
     "name": "stderr",
     "text": "100%|██████████| 118162/118162 [00:02<00:00, 48006.41it/s]\n"
    },
    {
     "output_type": "execute_result",
     "data": {
      "text/plain": "(114205, 3)"
     },
     "metadata": {},
     "execution_count": 5
    }
   ],
   "source": [
    "drop_i = list()\n",
    "\n",
    "for i in tqdm(bioplex.index):             # Dropping rows which have p(Wrong) > 5%\n",
    "    error = bioplex['pW'][i]\n",
    "    if error > 0.05:\n",
    "        drop_i.append(i)\n",
    "\n",
    "bioplex = bioplex.drop(drop_i)\n",
    "bioplex = bioplex[['GeneA', 'GeneB', 'pInt']]   # Selecting appropriate columns\n",
    "\n",
    "bioplex.columns = ['gene1_name', 'gene2_name', 'combined_score']\n",
    "bioplex.shape"
   ]
  },
  {
   "cell_type": "code",
   "execution_count": 6,
   "metadata": {
    "tags": []
   },
   "outputs": [
    {
     "output_type": "stream",
     "name": "stderr",
     "text": "100%|██████████| 11723/11723 [00:00<00:00, 12349.75it/s]\n"
    },
    {
     "output_type": "execute_result",
     "data": {
      "text/plain": "11716"
     },
     "metadata": {},
     "execution_count": 6
    }
   ],
   "source": [
    "gene2data = dict()\n",
    "\n",
    "# gene = set()\n",
    "\n",
    "for i in tqdm(hpa.index):                       # Store a mapping from gene name to its hpa data\n",
    "    gene_name = hpa['Gene name'][i]\n",
    "    gene_id = hpa['Gene'][i]\n",
    "    reliability = hpa['Reliability'][i]\n",
    "    locations = hpa['Locations'][i]\n",
    "    gene2data[gene_name] = (gene_id, reliability, locations)\n",
    "\n",
    "    # l1 = len(gene)\n",
    "    # gene.add(gene_name)\n",
    "    # l2 = len(gene)\n",
    "    # if l1 == l2:\n",
    "    #     print(\"Gene name = \", gene_name)\n",
    "\n",
    "len(gene2data)"
   ]
  },
  {
   "cell_type": "code",
   "execution_count": 7,
   "metadata": {},
   "outputs": [],
   "source": [
    "# Converts a string of template '{location1, location2}' to a set of locations.\n",
    "def get_set(x):                 \n",
    "    x = x[1:-1].strip()\n",
    "    x = x.replace('\"', '')\n",
    "    x = x.replace(\"'\", \"\")\n",
    "    return set([s.strip() for s in x.split(',')])\n",
    "    "
   ]
  },
  {
   "cell_type": "code",
   "execution_count": 8,
   "metadata": {
    "tags": []
   },
   "outputs": [
    {
     "output_type": "stream",
     "name": "stderr",
     "text": "100%|██████████| 114205/114205 [00:04<00:00, 23485.96it/s]\n"
    }
   ],
   "source": [
    "id_A = list()\n",
    "id_B = list()\n",
    "reliability_A = list()\n",
    "reliability_B = list()\n",
    "loc_A = list()\n",
    "loc_B = list()\n",
    "locs = list()\n",
    "\n",
    "# Extract information from HPA data using gene names from Bioplex data.\n",
    "for i in tqdm(bioplex.index):\n",
    "    gene1 = bioplex['gene1_name'][i]\n",
    "    gene2 = bioplex['gene2_name'][i]\n",
    "    \n",
    "    try:\n",
    "        id1, r1, l1 = gene2data[gene1]\n",
    "        l1 = get_set(l1)\n",
    "    except:\n",
    "        id1, r1, l1 = None, None, None\n",
    "    try:\n",
    "        id2, r2, l2 = gene2data[gene2]\n",
    "        l2 = get_set(l2)\n",
    "    except:\n",
    "        id2, r2, l2 = None, None, None\n",
    "    \n",
    "    id_A.append(id1)\n",
    "    id_B.append(id2)\n",
    "    reliability_A.append(r1)\n",
    "    reliability_B.append(r2)\n",
    "    loc_A.append(l1)\n",
    "    loc_B.append(l2)\n",
    "\n",
    "    if (l1 != None) and (l2 != None):\n",
    "        locs.append(frozenset(l1.intersection(l2)))     \n",
    "    elif l1 != None:\n",
    "        locs.append(frozenset(l1))                      \n",
    "    elif l2 != None:\n",
    "        locs.append(frozenset(l2))\n",
    "    else:                                               \n",
    "        locs.append(frozenset({}))\n",
    "\n",
    "bioplex['gene1'] = id_A\n",
    "bioplex['gene2'] = id_B\n",
    "bioplex['reliability1'] = reliability_A\n",
    "bioplex['reliability2'] = reliability_B\n",
    "bioplex['location1'] = loc_A\n",
    "bioplex['location2'] = loc_B\n",
    "bioplex['locations'] = locs"
   ]
  },
  {
   "cell_type": "code",
   "execution_count": 63,
   "metadata": {},
   "outputs": [],
   "source": [
    "# bioplex.to_csv('../data/bio_test.csv', index=None)"
   ]
  },
  {
   "cell_type": "code",
   "execution_count": 64,
   "metadata": {},
   "outputs": [
    {
     "output_type": "execute_result",
     "data": {
      "text/plain": "(73664, 10)"
     },
     "metadata": {},
     "execution_count": 64
    }
   ],
   "source": [
    "drop_i = list()\n",
    "for i in bioplex.index:                 # Remove datapoints that do not belong to any location\n",
    "    if len(bioplex['locations'][i]) == 0:\n",
    "        drop_i.append(i)\n",
    "\n",
    "bioplex = bioplex.drop(drop_i)\n",
    "bioplex.shape"
   ]
  },
  {
   "cell_type": "code",
   "execution_count": 65,
   "metadata": {},
   "outputs": [],
   "source": [
    "bioplex['locations'] = bioplex['locations'].apply(lambda x: list(x))\n",
    "cols = ['gene1_name', 'gene1', 'reliability1', 'location1', 'gene2_name', 'gene2', 'reliability2', 'location2', 'combined_score', 'locations']\n",
    "bioplex = bioplex[cols]"
   ]
  },
  {
   "cell_type": "code",
   "execution_count": 66,
   "metadata": {},
   "outputs": [],
   "source": [
    "bioplex.to_csv('../data/bioplex_locs.csv', index=None)"
   ]
  },
  {
   "cell_type": "code",
   "execution_count": null,
   "metadata": {},
   "outputs": [],
   "source": []
  }
 ],
 "metadata": {
  "language_info": {
   "codemirror_mode": {
    "name": "ipython",
    "version": 3
   },
   "file_extension": ".py",
   "mimetype": "text/x-python",
   "name": "python",
   "nbconvert_exporter": "python",
   "pygments_lexer": "ipython3",
   "version": "3.7.6-final"
  },
  "orig_nbformat": 2,
  "kernelspec": {
   "name": "python3",
   "display_name": "Python 3"
  }
 },
 "nbformat": 4,
 "nbformat_minor": 2
}