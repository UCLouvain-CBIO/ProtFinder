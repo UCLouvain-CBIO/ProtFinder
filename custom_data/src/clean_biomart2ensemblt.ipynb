{
 "cells": [
  {
   "cell_type": "code",
   "execution_count": 112,
   "metadata": {},
   "outputs": [],
   "source": [
    "import pandas as pd"
   ]
  },
  {
   "cell_type": "code",
   "execution_count": 113,
   "metadata": {},
   "outputs": [
    {
     "output_type": "execute_result",
     "data": {
      "text/plain": "    uniprot   entry     id                                               enst\n0    P20700  P20700  4001;                                   ENST00000261366;\n1  P28715-2  P28715  2073;  ENST00000535557 [P28715-3];ENST00000652225 [P2...\n2    O60266  O60266   109;                        ENST00000260600 [O60266-1];\n3  P23470-2  P23470  5793;  ENST00000295874 [P23470-2];ENST00000474889 [P2...\n4    Q05823  Q05823  6041;  ENST00000367559 [Q05823-1];ENST00000539397 [Q0...",
      "text/html": "<div>\n<style scoped>\n    .dataframe tbody tr th:only-of-type {\n        vertical-align: middle;\n    }\n\n    .dataframe tbody tr th {\n        vertical-align: top;\n    }\n\n    .dataframe thead th {\n        text-align: right;\n    }\n</style>\n<table border=\"1\" class=\"dataframe\">\n  <thead>\n    <tr style=\"text-align: right;\">\n      <th></th>\n      <th>uniprot</th>\n      <th>entry</th>\n      <th>id</th>\n      <th>enst</th>\n    </tr>\n  </thead>\n  <tbody>\n    <tr>\n      <th>0</th>\n      <td>P20700</td>\n      <td>P20700</td>\n      <td>4001;</td>\n      <td>ENST00000261366;</td>\n    </tr>\n    <tr>\n      <th>1</th>\n      <td>P28715-2</td>\n      <td>P28715</td>\n      <td>2073;</td>\n      <td>ENST00000535557 [P28715-3];ENST00000652225 [P2...</td>\n    </tr>\n    <tr>\n      <th>2</th>\n      <td>O60266</td>\n      <td>O60266</td>\n      <td>109;</td>\n      <td>ENST00000260600 [O60266-1];</td>\n    </tr>\n    <tr>\n      <th>3</th>\n      <td>P23470-2</td>\n      <td>P23470</td>\n      <td>5793;</td>\n      <td>ENST00000295874 [P23470-2];ENST00000474889 [P2...</td>\n    </tr>\n    <tr>\n      <th>4</th>\n      <td>Q05823</td>\n      <td>Q05823</td>\n      <td>6041;</td>\n      <td>ENST00000367559 [Q05823-1];ENST00000539397 [Q0...</td>\n    </tr>\n  </tbody>\n</table>\n</div>"
     },
     "metadata": {},
     "execution_count": 113
    }
   ],
   "source": [
    "# Load the file downloaded from Uniprot (https://www.uniprot.org/uploadlists/).\n",
    "df = pd.read_csv('../data/bioplex2ensemblt.tab', sep='\\t')\n",
    "df.dropna(inplace=True)\n",
    "df.columns = ['uniprot', 'entry', 'id', 'enst']    # Rename columns\n",
    "df.head()"
   ]
  },
  {
   "cell_type": "code",
   "execution_count": 114,
   "metadata": {},
   "outputs": [],
   "source": [
    "def clean(x):               # Clean the format of ensembl IDs and gene IDs\n",
    "    x = x.split(';')[0]\n",
    "    x = x.split('[')[0].strip()\n",
    "    return x"
   ]
  },
  {
   "cell_type": "code",
   "execution_count": 115,
   "metadata": {},
   "outputs": [
    {
     "output_type": "execute_result",
     "data": {
      "text/plain": "    uniprot   entry    id             enst\n0    P20700  P20700  4001  ENST00000261366\n1  P28715-2  P28715  2073  ENST00000535557\n2    O60266  O60266   109  ENST00000260600\n3  P23470-2  P23470  5793  ENST00000295874\n4    Q05823  Q05823  6041  ENST00000367559",
      "text/html": "<div>\n<style scoped>\n    .dataframe tbody tr th:only-of-type {\n        vertical-align: middle;\n    }\n\n    .dataframe tbody tr th {\n        vertical-align: top;\n    }\n\n    .dataframe thead th {\n        text-align: right;\n    }\n</style>\n<table border=\"1\" class=\"dataframe\">\n  <thead>\n    <tr style=\"text-align: right;\">\n      <th></th>\n      <th>uniprot</th>\n      <th>entry</th>\n      <th>id</th>\n      <th>enst</th>\n    </tr>\n  </thead>\n  <tbody>\n    <tr>\n      <th>0</th>\n      <td>P20700</td>\n      <td>P20700</td>\n      <td>4001</td>\n      <td>ENST00000261366</td>\n    </tr>\n    <tr>\n      <th>1</th>\n      <td>P28715-2</td>\n      <td>P28715</td>\n      <td>2073</td>\n      <td>ENST00000535557</td>\n    </tr>\n    <tr>\n      <th>2</th>\n      <td>O60266</td>\n      <td>O60266</td>\n      <td>109</td>\n      <td>ENST00000260600</td>\n    </tr>\n    <tr>\n      <th>3</th>\n      <td>P23470-2</td>\n      <td>P23470</td>\n      <td>5793</td>\n      <td>ENST00000295874</td>\n    </tr>\n    <tr>\n      <th>4</th>\n      <td>Q05823</td>\n      <td>Q05823</td>\n      <td>6041</td>\n      <td>ENST00000367559</td>\n    </tr>\n  </tbody>\n</table>\n</div>"
     },
     "metadata": {},
     "execution_count": 115
    }
   ],
   "source": [
    "df['enst'] = df['enst'].apply(lambda x: clean(x))\n",
    "df['id'] = df['id'].apply(lambda x: clean(x))\n",
    "df.head()"
   ]
  },
  {
   "cell_type": "code",
   "execution_count": 116,
   "metadata": {},
   "outputs": [],
   "source": [
    "def get_unique(df, col):        # Extract unique gene IDs or uniprot IDs from BioPlex data\n",
    "    colA = col+'A'\n",
    "    colB = col+'B'\n",
    "\n",
    "    s1 = set(df[colA].to_list())\n",
    "    s2 = set(df[colB].to_list())\n",
    "    return s1.union(s2)"
   ]
  },
  {
   "cell_type": "code",
   "execution_count": 117,
   "metadata": {
    "tags": []
   },
   "outputs": [
    {
     "output_type": "stream",
     "name": "stdout",
     "text": "(13177, 4) 13689\n"
    },
    {
     "output_type": "execute_result",
     "data": {
      "text/plain": "(13099, 4)"
     },
     "metadata": {},
     "execution_count": 117
    }
   ],
   "source": [
    "bioplex = pd.read_csv('../data/BioPlex3.tsv', sep='\\t')\n",
    "uniprots = get_unique(bioplex, 'Uniprot')\n",
    "ids = get_unique(bioplex, 'Gene')\n",
    "# symbols = get_unique(bioplex, 'Symbol')\n",
    "\n",
    "drop_l = list()\n",
    "\n",
    "# Pick common (wrt uniprot and gene IDs) rows from Bioplex and downloaded file from uniprot.\n",
    "for i in df.index:           \n",
    "    temp_id = ids\n",
    "    temp_uniprot = uniprots\n",
    "    # temp_symbol = symbols\n",
    "\n",
    "    l1 = len(temp_id)\n",
    "    gene_id = int(df['id'][i])\n",
    "    temp_id.add(gene_id)\n",
    "    ll1 = len(temp_id)\n",
    "    \n",
    "    l2 = len(temp_uniprot)\n",
    "    gene = df['uniprot'][i]\n",
    "    temp_uniprot.add(gene)\n",
    "    ll2 = len(temp_uniprot)\n",
    "\n",
    "    # if gene == \"Q00887\":\n",
    "        # print(gene_id)\n",
    "\n",
    "    # l3 = len(temp_symbol)\n",
    "    # gene = df['gene_symbol'][i]\n",
    "    # temp_symbol.add(gene)\n",
    "    # ll3 = len(temp_symbol)\n",
    "    \n",
    "    if l1==ll1 and l2==ll2:\n",
    "        continue\n",
    "    else:\n",
    "        # print(gene)\n",
    "        \n",
    "        drop_l.append(i)\n",
    "\n",
    "print(df.shape, len(genes))\n",
    "df = df.drop(drop_l) \n",
    "df.shape"
   ]
  },
  {
   "cell_type": "code",
   "execution_count": 118,
   "metadata": {},
   "outputs": [],
   "source": [
    "gene2id = dict()        # gene name to gene ID\n",
    "\n",
    "for i in bioplex.index:\n",
    "    gene1 = bioplex['SymbolA'][i]\n",
    "    gene2 = bioplex['SymbolB'][i]\n",
    "    id1 = bioplex['GeneA'][i]\n",
    "    id2 = bioplex['GeneB'][i]\n",
    "\n",
    "    gene2id[gene1] = id1\n",
    "    gene2id[gene2] = id2"
   ]
  },
  {
   "cell_type": "code",
   "execution_count": 119,
   "metadata": {},
   "outputs": [],
   "source": [
    "l = df['enst'].unique().tolist()\n",
    "\n",
    "# write all the unique ensembl transcript IDs into a txt file\n",
    "with open('../data/enst.txt', 'w') as f:    \n",
    "    for val in l:\n",
    "        f.write(f'{val}\\n')"
   ]
  },
  {
   "cell_type": "code",
   "execution_count": 120,
   "metadata": {},
   "outputs": [],
   "source": [
    "# Upload the generated txt file and get the ENST -> ENSG,ENSP mappings from biomart"
   ]
  },
  {
   "cell_type": "code",
   "execution_count": 121,
   "metadata": {},
   "outputs": [
    {
     "output_type": "execute_result",
     "data": {
      "text/plain": "              enst             ensg             ensp\n0  ENST00000361390  ENSG00000198888  ENSP00000354687\n1  ENST00000361453  ENSG00000198763  ENSP00000355046\n2  ENST00000361624  ENSG00000198804  ENSP00000354499\n3  ENST00000361739  ENSG00000198712  ENSP00000354876\n4  ENST00000361851  ENSG00000228253  ENSP00000355265",
      "text/html": "<div>\n<style scoped>\n    .dataframe tbody tr th:only-of-type {\n        vertical-align: middle;\n    }\n\n    .dataframe tbody tr th {\n        vertical-align: top;\n    }\n\n    .dataframe thead th {\n        text-align: right;\n    }\n</style>\n<table border=\"1\" class=\"dataframe\">\n  <thead>\n    <tr style=\"text-align: right;\">\n      <th></th>\n      <th>enst</th>\n      <th>ensg</th>\n      <th>ensp</th>\n    </tr>\n  </thead>\n  <tbody>\n    <tr>\n      <th>0</th>\n      <td>ENST00000361390</td>\n      <td>ENSG00000198888</td>\n      <td>ENSP00000354687</td>\n    </tr>\n    <tr>\n      <th>1</th>\n      <td>ENST00000361453</td>\n      <td>ENSG00000198763</td>\n      <td>ENSP00000355046</td>\n    </tr>\n    <tr>\n      <th>2</th>\n      <td>ENST00000361624</td>\n      <td>ENSG00000198804</td>\n      <td>ENSP00000354499</td>\n    </tr>\n    <tr>\n      <th>3</th>\n      <td>ENST00000361739</td>\n      <td>ENSG00000198712</td>\n      <td>ENSP00000354876</td>\n    </tr>\n    <tr>\n      <th>4</th>\n      <td>ENST00000361851</td>\n      <td>ENSG00000228253</td>\n      <td>ENSP00000355265</td>\n    </tr>\n  </tbody>\n</table>\n</div>"
     },
     "metadata": {},
     "execution_count": 121
    }
   ],
   "source": [
    "mapping = pd.read_csv('../data/transcript2gp.csv')\n",
    "mapping.columns = ['enst', 'ensg', 'ensp']\n",
    "mapping.head()"
   ]
  },
  {
   "cell_type": "code",
   "execution_count": 123,
   "metadata": {},
   "outputs": [
    {
     "output_type": "execute_result",
     "data": {
      "text/plain": "13089"
     },
     "metadata": {},
     "execution_count": 123
    }
   ],
   "source": [
    "gene2enst = dict()      # gene ID to transcript ensembl ID\n",
    "\n",
    "for i in df.index:\n",
    "    gene_id = df['id'][i]\n",
    "    enst = df['enst'][i]\n",
    "    gene2enst[gene_id] = enst\n",
    "len(gene2enst)"
   ]
  },
  {
   "cell_type": "code",
   "execution_count": 124,
   "metadata": {},
   "outputs": [
    {
     "output_type": "execute_result",
     "data": {
      "text/plain": "13067"
     },
     "metadata": {},
     "execution_count": 124
    }
   ],
   "source": [
    "enst2ensgp = dict()     # transcript ensembl ID to gene, protein ensembl IDs\n",
    "\n",
    "for i in mapping.index:\n",
    "    enst = mapping['enst'][i]\n",
    "    ensg = mapping['ensg'][i]\n",
    "    ensp = mapping['ensp'][i]\n",
    "    enst2ensgp[enst] = (ensg, ensp)\n",
    "len(enst2ensgp)"
   ]
  },
  {
   "cell_type": "code",
   "execution_count": 125,
   "metadata": {
    "tags": []
   },
   "outputs": [
    {
     "output_type": "stream",
     "name": "stdout",
     "text": "(73664, 10)\n"
    },
    {
     "output_type": "execute_result",
     "data": {
      "text/plain": "  gene1_name            gene1 reliability1  \\\n0        ADA  ENSG00000196839    Supported   \n1      BEND7  ENSG00000165626     Approved   \n2      BEND7  ENSG00000165626     Approved   \n3      BEND7  ENSG00000165626     Approved   \n4      BEND7  ENSG00000165626     Approved   \n\n                                           location1 gene2_name  \\\n0                     {'Plasma membrane', 'Cytosol'}      POTEF   \n1  {'Nucleoli fibrillar center', 'Vesicles', 'Nuc...      RBBP4   \n2  {'Nucleoli fibrillar center', 'Vesicles', 'Nuc...      RPL36   \n3  {'Nucleoli fibrillar center', 'Vesicles', 'Nuc...       LRP4   \n4  {'Nucleoli fibrillar center', 'Vesicles', 'Nuc...      KPNA1   \n\n             gene2 reliability2                   location2  combined_score  \\\n0              NaN          NaN                         NaN        0.999882   \n1  ENSG00000162521     Enhanced             {'Nucleoplasm'}        0.999936   \n2              NaN          NaN                         NaN        0.871817   \n3              NaN          NaN                         NaN        0.999669   \n4  ENSG00000114030     Enhanced  {'Cytosol', 'Nucleoplasm'}        0.999971   \n\n                                           locations  \n0                     ['Plasma membrane', 'Cytosol']  \n1                                    ['Nucleoplasm']  \n2  ['Nucleoli fibrillar center', 'Vesicles', 'Nuc...  \n3  ['Nucleoli fibrillar center', 'Vesicles', 'Nuc...  \n4                                    ['Nucleoplasm']  ",
      "text/html": "<div>\n<style scoped>\n    .dataframe tbody tr th:only-of-type {\n        vertical-align: middle;\n    }\n\n    .dataframe tbody tr th {\n        vertical-align: top;\n    }\n\n    .dataframe thead th {\n        text-align: right;\n    }\n</style>\n<table border=\"1\" class=\"dataframe\">\n  <thead>\n    <tr style=\"text-align: right;\">\n      <th></th>\n      <th>gene1_name</th>\n      <th>gene1</th>\n      <th>reliability1</th>\n      <th>location1</th>\n      <th>gene2_name</th>\n      <th>gene2</th>\n      <th>reliability2</th>\n      <th>location2</th>\n      <th>combined_score</th>\n      <th>locations</th>\n    </tr>\n  </thead>\n  <tbody>\n    <tr>\n      <th>0</th>\n      <td>ADA</td>\n      <td>ENSG00000196839</td>\n      <td>Supported</td>\n      <td>{'Plasma membrane', 'Cytosol'}</td>\n      <td>POTEF</td>\n      <td>NaN</td>\n      <td>NaN</td>\n      <td>NaN</td>\n      <td>0.999882</td>\n      <td>['Plasma membrane', 'Cytosol']</td>\n    </tr>\n    <tr>\n      <th>1</th>\n      <td>BEND7</td>\n      <td>ENSG00000165626</td>\n      <td>Approved</td>\n      <td>{'Nucleoli fibrillar center', 'Vesicles', 'Nuc...</td>\n      <td>RBBP4</td>\n      <td>ENSG00000162521</td>\n      <td>Enhanced</td>\n      <td>{'Nucleoplasm'}</td>\n      <td>0.999936</td>\n      <td>['Nucleoplasm']</td>\n    </tr>\n    <tr>\n      <th>2</th>\n      <td>BEND7</td>\n      <td>ENSG00000165626</td>\n      <td>Approved</td>\n      <td>{'Nucleoli fibrillar center', 'Vesicles', 'Nuc...</td>\n      <td>RPL36</td>\n      <td>NaN</td>\n      <td>NaN</td>\n      <td>NaN</td>\n      <td>0.871817</td>\n      <td>['Nucleoli fibrillar center', 'Vesicles', 'Nuc...</td>\n    </tr>\n    <tr>\n      <th>3</th>\n      <td>BEND7</td>\n      <td>ENSG00000165626</td>\n      <td>Approved</td>\n      <td>{'Nucleoli fibrillar center', 'Vesicles', 'Nuc...</td>\n      <td>LRP4</td>\n      <td>NaN</td>\n      <td>NaN</td>\n      <td>NaN</td>\n      <td>0.999669</td>\n      <td>['Nucleoli fibrillar center', 'Vesicles', 'Nuc...</td>\n    </tr>\n    <tr>\n      <th>4</th>\n      <td>BEND7</td>\n      <td>ENSG00000165626</td>\n      <td>Approved</td>\n      <td>{'Nucleoli fibrillar center', 'Vesicles', 'Nuc...</td>\n      <td>KPNA1</td>\n      <td>ENSG00000114030</td>\n      <td>Enhanced</td>\n      <td>{'Cytosol', 'Nucleoplasm'}</td>\n      <td>0.999971</td>\n      <td>['Nucleoplasm']</td>\n    </tr>\n  </tbody>\n</table>\n</div>"
     },
     "metadata": {},
     "execution_count": 125
    }
   ],
   "source": [
    "df = pd.read_csv('../data/bioplex_locs.csv')    # Load processed BioPlex data\n",
    "print(df.shape)\n",
    "df.head()"
   ]
  },
  {
   "cell_type": "code",
   "execution_count": 133,
   "metadata": {},
   "outputs": [],
   "source": [
    "def do_map(x, mode):    # maps gene name to gene, protein ensembl IDs\n",
    "    try:\n",
    "        gp = enst2ensgp[gene2enst[str(gene2id[x])]]\n",
    "    except:\n",
    "        return None\n",
    "    if mode == 'p':\n",
    "        return gp[1]\n",
    "    return gp[0]"
   ]
  },
  {
   "cell_type": "code",
   "execution_count": 134,
   "metadata": {},
   "outputs": [
    {
     "output_type": "execute_result",
     "data": {
      "text/plain": "  gene1_name            gene1 reliability1  \\\n0        ADA  ENSG00000196839    Supported   \n1      BEND7  ENSG00000165626     Approved   \n\n                                           location1 gene2_name  \\\n0                     {'Plasma membrane', 'Cytosol'}      POTEF   \n1  {'Nucleoli fibrillar center', 'Vesicles', 'Nuc...      RBBP4   \n\n             gene2 reliability2        location2  combined_score  \\\n0  ENSG00000196604          NaN              NaN        0.999882   \n1  ENSG00000162521     Enhanced  {'Nucleoplasm'}        0.999936   \n\n                        locations         protein1         protein2  \n0  ['Plasma membrane', 'Cytosol']  ENSP00000361965  ENSP00000386786  \n1                 ['Nucleoplasm']  ENSP00000345773  ENSP00000362584  ",
      "text/html": "<div>\n<style scoped>\n    .dataframe tbody tr th:only-of-type {\n        vertical-align: middle;\n    }\n\n    .dataframe tbody tr th {\n        vertical-align: top;\n    }\n\n    .dataframe thead th {\n        text-align: right;\n    }\n</style>\n<table border=\"1\" class=\"dataframe\">\n  <thead>\n    <tr style=\"text-align: right;\">\n      <th></th>\n      <th>gene1_name</th>\n      <th>gene1</th>\n      <th>reliability1</th>\n      <th>location1</th>\n      <th>gene2_name</th>\n      <th>gene2</th>\n      <th>reliability2</th>\n      <th>location2</th>\n      <th>combined_score</th>\n      <th>locations</th>\n      <th>protein1</th>\n      <th>protein2</th>\n    </tr>\n  </thead>\n  <tbody>\n    <tr>\n      <th>0</th>\n      <td>ADA</td>\n      <td>ENSG00000196839</td>\n      <td>Supported</td>\n      <td>{'Plasma membrane', 'Cytosol'}</td>\n      <td>POTEF</td>\n      <td>ENSG00000196604</td>\n      <td>NaN</td>\n      <td>NaN</td>\n      <td>0.999882</td>\n      <td>['Plasma membrane', 'Cytosol']</td>\n      <td>ENSP00000361965</td>\n      <td>ENSP00000386786</td>\n    </tr>\n    <tr>\n      <th>1</th>\n      <td>BEND7</td>\n      <td>ENSG00000165626</td>\n      <td>Approved</td>\n      <td>{'Nucleoli fibrillar center', 'Vesicles', 'Nuc...</td>\n      <td>RBBP4</td>\n      <td>ENSG00000162521</td>\n      <td>Enhanced</td>\n      <td>{'Nucleoplasm'}</td>\n      <td>0.999936</td>\n      <td>['Nucleoplasm']</td>\n      <td>ENSP00000345773</td>\n      <td>ENSP00000362584</td>\n    </tr>\n  </tbody>\n</table>\n</div>"
     },
     "metadata": {},
     "execution_count": 134
    }
   ],
   "source": [
    "df['protein1'] = df['gene1_name'].apply(lambda x: do_map(x, 'p'))\n",
    "df['protein2'] = df['gene2_name'].apply(lambda x: do_map(x, 'p'))\n",
    "\n",
    "df['gene1'] = df['gene1_name'].apply(lambda x: do_map(x, 'g'))\n",
    "df['gene2'] = df['gene2_name'].apply(lambda x: do_map(x, 'g'))\n",
    "\n",
    "df.head(2)"
   ]
  },
  {
   "cell_type": "code",
   "execution_count": 135,
   "metadata": {},
   "outputs": [
    {
     "output_type": "execute_result",
     "data": {
      "text/plain": "          protein1            gene1 reliability1  \\\n0  ENSP00000361965  ENSG00000196839    Supported   \n1  ENSP00000345773  ENSG00000165626     Approved   \n\n                                           location1         protein2  \\\n0                     {'Plasma membrane', 'Cytosol'}  ENSP00000386786   \n1  {'Nucleoli fibrillar center', 'Vesicles', 'Nuc...  ENSP00000362584   \n\n             gene2 reliability2        location2  combined_score  \\\n0  ENSG00000196604          NaN              NaN        0.999882   \n1  ENSG00000162521     Enhanced  {'Nucleoplasm'}        0.999936   \n\n                        locations  \n0  ['Plasma membrane', 'Cytosol']  \n1                 ['Nucleoplasm']  ",
      "text/html": "<div>\n<style scoped>\n    .dataframe tbody tr th:only-of-type {\n        vertical-align: middle;\n    }\n\n    .dataframe tbody tr th {\n        vertical-align: top;\n    }\n\n    .dataframe thead th {\n        text-align: right;\n    }\n</style>\n<table border=\"1\" class=\"dataframe\">\n  <thead>\n    <tr style=\"text-align: right;\">\n      <th></th>\n      <th>protein1</th>\n      <th>gene1</th>\n      <th>reliability1</th>\n      <th>location1</th>\n      <th>protein2</th>\n      <th>gene2</th>\n      <th>reliability2</th>\n      <th>location2</th>\n      <th>combined_score</th>\n      <th>locations</th>\n    </tr>\n  </thead>\n  <tbody>\n    <tr>\n      <th>0</th>\n      <td>ENSP00000361965</td>\n      <td>ENSG00000196839</td>\n      <td>Supported</td>\n      <td>{'Plasma membrane', 'Cytosol'}</td>\n      <td>ENSP00000386786</td>\n      <td>ENSG00000196604</td>\n      <td>NaN</td>\n      <td>NaN</td>\n      <td>0.999882</td>\n      <td>['Plasma membrane', 'Cytosol']</td>\n    </tr>\n    <tr>\n      <th>1</th>\n      <td>ENSP00000345773</td>\n      <td>ENSG00000165626</td>\n      <td>Approved</td>\n      <td>{'Nucleoli fibrillar center', 'Vesicles', 'Nuc...</td>\n      <td>ENSP00000362584</td>\n      <td>ENSG00000162521</td>\n      <td>Enhanced</td>\n      <td>{'Nucleoplasm'}</td>\n      <td>0.999936</td>\n      <td>['Nucleoplasm']</td>\n    </tr>\n  </tbody>\n</table>\n</div>"
     },
     "metadata": {},
     "execution_count": 135
    }
   ],
   "source": [
    "# Extract appropriate columns\n",
    "cols = ['protein1', 'gene1', 'reliability1', 'location1', 'protein2', 'gene2', 'reliability2', 'location2', 'combined_score', 'locations']\n",
    "df = df[cols]\n",
    "df.head(2)"
   ]
  },
  {
   "cell_type": "code",
   "execution_count": 137,
   "metadata": {},
   "outputs": [],
   "source": [
    "df.to_csv('../data/bioplex_locs2.csv', index=None)"
   ]
  },
  {
   "cell_type": "code",
   "execution_count": null,
   "metadata": {},
   "outputs": [],
   "source": []
  }
 ],
 "metadata": {
  "language_info": {
   "codemirror_mode": {
    "name": "ipython",
    "version": 3
   },
   "file_extension": ".py",
   "mimetype": "text/x-python",
   "name": "python",
   "nbconvert_exporter": "python",
   "pygments_lexer": "ipython3",
   "version": "3.7.6-final"
  },
  "orig_nbformat": 2,
  "kernelspec": {
   "name": "python3",
   "display_name": "Python 3"
  }
 },
 "nbformat": 4,
 "nbformat_minor": 2
}