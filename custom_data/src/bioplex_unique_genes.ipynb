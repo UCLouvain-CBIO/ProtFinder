{
 "cells": [
  {
   "cell_type": "code",
   "execution_count": 5,
   "metadata": {},
   "outputs": [],
   "source": [
    "import pandas as pd"
   ]
  },
  {
   "cell_type": "code",
   "execution_count": 6,
   "metadata": {},
   "outputs": [
    {
     "output_type": "execute_result",
     "data": {
      "text/plain": "    GeneA   GeneB  UniprotA  UniprotB SymbolA SymbolB            pW       pNI  \\\n0     100  728378    P00813    A5A3E0     ADA   POTEF  6.881844e-10  0.000118   \n1  222389    6137  Q8N7W2-2    P26373   BEND7   RPL13  1.340380e-18  0.225664   \n2  222389    5928  Q8N7W2-2  Q09028-3   BEND7   RBBP4  7.221401e-21  0.000064   \n3  222389   25873  Q8N7W2-2    Q9Y3U8   BEND7   RPL36  7.058372e-17  0.128183   \n4  222389    6124  Q8N7W2-2    P36578   BEND7    RPL4  1.632313e-22  0.200638   \n\n       pInt  \n0  0.999882  \n1  0.774336  \n2  0.999936  \n3  0.871817  \n4  0.799362  ",
      "text/html": "<div>\n<style scoped>\n    .dataframe tbody tr th:only-of-type {\n        vertical-align: middle;\n    }\n\n    .dataframe tbody tr th {\n        vertical-align: top;\n    }\n\n    .dataframe thead th {\n        text-align: right;\n    }\n</style>\n<table border=\"1\" class=\"dataframe\">\n  <thead>\n    <tr style=\"text-align: right;\">\n      <th></th>\n      <th>GeneA</th>\n      <th>GeneB</th>\n      <th>UniprotA</th>\n      <th>UniprotB</th>\n      <th>SymbolA</th>\n      <th>SymbolB</th>\n      <th>pW</th>\n      <th>pNI</th>\n      <th>pInt</th>\n    </tr>\n  </thead>\n  <tbody>\n    <tr>\n      <th>0</th>\n      <td>100</td>\n      <td>728378</td>\n      <td>P00813</td>\n      <td>A5A3E0</td>\n      <td>ADA</td>\n      <td>POTEF</td>\n      <td>6.881844e-10</td>\n      <td>0.000118</td>\n      <td>0.999882</td>\n    </tr>\n    <tr>\n      <th>1</th>\n      <td>222389</td>\n      <td>6137</td>\n      <td>Q8N7W2-2</td>\n      <td>P26373</td>\n      <td>BEND7</td>\n      <td>RPL13</td>\n      <td>1.340380e-18</td>\n      <td>0.225664</td>\n      <td>0.774336</td>\n    </tr>\n    <tr>\n      <th>2</th>\n      <td>222389</td>\n      <td>5928</td>\n      <td>Q8N7W2-2</td>\n      <td>Q09028-3</td>\n      <td>BEND7</td>\n      <td>RBBP4</td>\n      <td>7.221401e-21</td>\n      <td>0.000064</td>\n      <td>0.999936</td>\n    </tr>\n    <tr>\n      <th>3</th>\n      <td>222389</td>\n      <td>25873</td>\n      <td>Q8N7W2-2</td>\n      <td>Q9Y3U8</td>\n      <td>BEND7</td>\n      <td>RPL36</td>\n      <td>7.058372e-17</td>\n      <td>0.128183</td>\n      <td>0.871817</td>\n    </tr>\n    <tr>\n      <th>4</th>\n      <td>222389</td>\n      <td>6124</td>\n      <td>Q8N7W2-2</td>\n      <td>P36578</td>\n      <td>BEND7</td>\n      <td>RPL4</td>\n      <td>1.632313e-22</td>\n      <td>0.200638</td>\n      <td>0.799362</td>\n    </tr>\n  </tbody>\n</table>\n</div>"
     },
     "metadata": {},
     "execution_count": 6
    }
   ],
   "source": [
    "df = pd.read_csv('../data/BioPlex3.tsv', sep='\\t') # Load original Bioplex data\n",
    "df.head()"
   ]
  },
  {
   "cell_type": "code",
   "execution_count": 7,
   "metadata": {},
   "outputs": [
    {
     "output_type": "execute_result",
     "data": {
      "text/plain": "13689"
     },
     "metadata": {},
     "execution_count": 7
    }
   ],
   "source": [
    "s1 = set(df['UniprotA'].to_list())\n",
    "s2 = set(df['UniprotB'].to_list())\n",
    "\n",
    "output = list(s1.union(s2))         # Take union of uniprot columns\n",
    "len(output)"
   ]
  },
  {
   "cell_type": "code",
   "execution_count": 8,
   "metadata": {},
   "outputs": [],
   "source": [
    "with open('../data/unique_genes.txt', 'w') as f:    # Store the unique genes in a txt file.\n",
    "    for val in output:\n",
    "        f.write(f'{val}\\n')"
   ]
  },
  {
   "cell_type": "code",
   "execution_count": null,
   "metadata": {},
   "outputs": [],
   "source": []
  }
 ],
 "metadata": {
  "language_info": {
   "codemirror_mode": {
    "name": "ipython",
    "version": 3
   },
   "file_extension": ".py",
   "mimetype": "text/x-python",
   "name": "python",
   "nbconvert_exporter": "python",
   "pygments_lexer": "ipython3",
   "version": "3.7.6-final"
  },
  "orig_nbformat": 2,
  "kernelspec": {
   "name": "python3",
   "display_name": "Python 3"
  }
 },
 "nbformat": 4,
 "nbformat_minor": 2
}